{
 "cells": [
  {
   "cell_type": "markdown",
   "metadata": {},
   "source": [
    "## Is a Picture Worth a Thousand Words?"
   ]
  },
  {
   "cell_type": "markdown",
   "metadata": {},
   "source": [
    "### Scrape Instagram Image Captions, Likes and Comments\n",
    "#### (Run on Google Colab)"
   ]
  },
  {
   "cell_type": "code",
   "execution_count": 4,
   "metadata": {},
   "outputs": [],
   "source": [
    "# from selenium import webdriver\n",
    "# from bs4 import BeautifulSoup as bs\n",
    "# import time\n",
    "# import re\n",
    "# from urllib.request import urlopen\n",
    "# import json\n",
    "# from pandas.io.json import json_normalize\n",
    "# import pandas as pd, numpy as np\n",
    "\n",
    "\n",
    "\n",
    "# username='natgeo'\n",
    "\n",
    "# browser = webdriver.Chrome()\n",
    "# browser.get('https://www.instagram.com/'+username+'/?hl=en')\n",
    "# #Pagelength = browser.execute_script(\"window.scrollTo(0, document.body.scrollHeight);\")\n",
    "\n",
    "\n",
    "# # Scroll the page to load 100 images :\n",
    "\n",
    "# lenOfPage = browser.execute_script(\"window.scrollTo(0, document.body.scrollHeight);var lenOfPage=document.body.scrollHeight;return lenOfPage;\")\n",
    "# match=False\n",
    "# i=0\n",
    "# links=[]\n",
    "\n",
    "# #might have to load initial images\n",
    "\n",
    "# while(match==False):\n",
    "#      lastCount = lenOfPage\n",
    "#      time.sleep(3)\n",
    "#      lenOfPage = browser.execute_script(\"window.scrollTo(0, document.body.scrollHeight);var lenOfPage=document.body.scrollHeight;return lenOfPage;\")\n",
    "#      i= i+1\n",
    "#      source = browser.page_source\n",
    "#      data=bs(source, 'html.parser')\n",
    "#      body = data.find('body')\n",
    "#      script = body.find('span')\n",
    "#      for link in script.findAll('a'):\n",
    "#           #time.sleep(2)\n",
    "#           if re.match(\"/p\", link.get('href')):\n",
    "#              links.append('https://www.instagram.com'+link.get('href'))\n",
    "#      if i>30 :\n",
    "#           match=True\n",
    "           \n",
    "# print(links)\n",
    "# df_nat = pd.DataFrame(columns = ['display_url','caption','is_video','likes','comments']) \n",
    "        \n",
    "# result=pd.DataFrame()\n",
    "# for i in range(len(links)):\n",
    "#     #try:\n",
    "#         time.sleep(2)\n",
    "#         page = urlopen(links[i]).read()\n",
    "#         data=bs(page, 'html.parser')\n",
    "#         body = data.find('body')\n",
    "#         script = body.find('script')\n",
    "#         raw = script.text.strip().replace('window._sharedData =', '').replace(';', '')\n",
    "#         json_data=json.loads(raw)\n",
    "#         posts =json_data['entry_data']['PostPage'][0]['graphql']\n",
    "#         posts= json.dumps(posts)\n",
    "#         posts = json.loads(posts)\n",
    "#         if(posts['shortcode_media']['is_video'] == False):\n",
    "#             display_url= posts['shortcode_media']['display_url'] \n",
    "#             caption= posts['shortcode_media']['edge_media_to_caption']['edges'][0]['node']['text']\n",
    "#             is_video=posts['shortcode_media']['is_video'] \n",
    "#             likes= posts['shortcode_media']['edge_media_preview_like']['count'] \n",
    "#             comments= posts['shortcode_media']['edge_media_to_parent_comment']['count']\n",
    "#             #title= posts['shortcode_media']['title']\n",
    "#             df_nat.loc[len(df_nat)] = [display_url,caption,is_video,likes,comments]\n",
    "          \n",
    "       \n",
    "#     #except:\n",
    "#         np.nan\n",
    "\n",
    "# df_nat.to_csv(\"C:/Users/aishw/Downloads/nat_results1.csv\")"
   ]
  },
  {
   "cell_type": "markdown",
   "metadata": {},
   "source": [
    "### Use Google Vision API to get the image labels"
   ]
  },
  {
   "cell_type": "code",
   "execution_count": 2,
   "metadata": {},
   "outputs": [],
   "source": [
    "# import pandas as pd\n",
    "# import numpy as np\n",
    "\n",
    "# from ast import literal_eval\n",
    "# import os\n",
    "\n",
    "# def detect_labels_uri(uri):\n",
    "#     \"\"\"Detects labels in the file located in Google Cloud Storage or on the\n",
    "#    Web.\"\"\"\n",
    "#     from google.cloud import vision\n",
    "#     client = vision.ImageAnnotatorClient()\n",
    "#     image = vision.types.Image()\n",
    "#     image.source.image_uri = uri\n",
    "\n",
    "#     response = client.label_detection(image=image)\n",
    "#     labels = response.label_annotations\n",
    "#     return labels\n",
    "\n",
    "# cs_directory = \"C:/Users/Sahana/Downloads/\"\n",
    "# os.environ[\"GOOGLE_APPLICATION_CREDENTIALS\"]= cs_directory + \"service_account.json\"\n",
    "\n",
    "# df = pd.read_csv(\"nat_geo_final.csv\")\n",
    "\n",
    "# def extract_labels_from_gvision(url):\n",
    "#     my_labels = detect_labels_uri(url)\n",
    "#     my_label_list = list()\n",
    "#     for label in my_labels:\n",
    "#         my_label_list.append(label.description)\n",
    "#     return my_label_list\n",
    "\n",
    "# df['labels'] = df['display_url'].apply(extract_labels_from_gvision)\n",
    "# df.to_csv(\"natgeo_labels_final.csv\")"
   ]
  },
  {
   "cell_type": "markdown",
   "metadata": {},
   "source": [
    "### Read in the scraped file with labels"
   ]
  },
  {
   "cell_type": "code",
   "execution_count": 5,
   "metadata": {},
   "outputs": [],
   "source": [
    "import pandas as pd\n",
    "import numpy as np\n",
    "\n",
    "from ast import literal_eval"
   ]
  },
  {
   "cell_type": "code",
   "execution_count": 6,
   "metadata": {},
   "outputs": [
    {
     "name": "stderr",
     "output_type": "stream",
     "text": [
      "[nltk_data] Downloading package stopwords to\n",
      "[nltk_data]     C:\\Users\\Sahana\\AppData\\Roaming\\nltk_data...\n",
      "[nltk_data]   Package stopwords is already up-to-date!\n"
     ]
    }
   ],
   "source": [
    "import nltk; nltk.download('stopwords')\n",
    "import re\n",
    "import numpy as np\n",
    "import pandas as pd\n",
    "from pprint import pprint\n",
    "import spacy\n",
    "\n",
    "from nltk.tokenize import word_tokenize\n",
    "\n",
    "# Gensim\n",
    "import gensim\n",
    "import gensim.corpora as corpora\n",
    "from gensim.utils import simple_preprocess\n",
    "from gensim.models import CoherenceModel\n",
    "\n",
    "# spacy for lemmatization\n",
    "import spacy\n",
    "\n",
    "# Plotting tools\n",
    "import pyLDAvis\n",
    "import pyLDAvis.gensim  # don't skip this\n",
    "import matplotlib.pyplot as plt\n",
    "%matplotlib inline\n",
    "\n",
    "# Enable logging for gensim - optional\n",
    "import logging\n",
    "logging.basicConfig(format='%(asctime)s : %(levelname)s : %(message)s', level=logging.ERROR)\n",
    "\n",
    "import warnings\n",
    "warnings.filterwarnings(\"ignore\",category=DeprecationWarning)"
   ]
  },
  {
   "cell_type": "code",
   "execution_count": 7,
   "metadata": {},
   "outputs": [],
   "source": [
    "df = pd.read_csv(\"natgeo_labels_final.csv\")\n",
    "\n",
    "df.drop(df.columns[0], axis=1, inplace = True)\n",
    "df['labels'] = df['labels'].apply(lambda x: literal_eval(x))"
   ]
  },
  {
   "cell_type": "code",
   "execution_count": 8,
   "metadata": {},
   "outputs": [],
   "source": [
    "df[\"labels\"] = df[\"labels\"].astype(str)\n",
    "df[\"labels\"] = df[\"labels\"].apply(lambda each_post: word_tokenize(re.sub(r'[^\\w\\s]',' ',each_post.lower())))"
   ]
  },
  {
   "cell_type": "code",
   "execution_count": 9,
   "metadata": {},
   "outputs": [],
   "source": [
    "df[\"labels_strings\"] = df['labels'].apply(' '.join)"
   ]
  },
  {
   "cell_type": "code",
   "execution_count": 10,
   "metadata": {},
   "outputs": [
    {
     "data": {
      "text/html": [
       "<div>\n",
       "<style scoped>\n",
       "    .dataframe tbody tr th:only-of-type {\n",
       "        vertical-align: middle;\n",
       "    }\n",
       "\n",
       "    .dataframe tbody tr th {\n",
       "        vertical-align: top;\n",
       "    }\n",
       "\n",
       "    .dataframe thead th {\n",
       "        text-align: right;\n",
       "    }\n",
       "</style>\n",
       "<table border=\"1\" class=\"dataframe\">\n",
       "  <thead>\n",
       "    <tr style=\"text-align: right;\">\n",
       "      <th></th>\n",
       "      <th>Index</th>\n",
       "      <th>display_url</th>\n",
       "      <th>comments</th>\n",
       "      <th>is_video</th>\n",
       "      <th>likes</th>\n",
       "      <th>caption</th>\n",
       "      <th>labels</th>\n",
       "      <th>labels_strings</th>\n",
       "    </tr>\n",
       "  </thead>\n",
       "  <tbody>\n",
       "    <tr>\n",
       "      <th>0</th>\n",
       "      <td>0</td>\n",
       "      <td>https://instagram.fftw1-1.fna.fbcdn.net/v/t51....</td>\n",
       "      <td>145</td>\n",
       "      <td>False</td>\n",
       "      <td>31505</td>\n",
       "      <td>Photo by Amber Bracken @photobracken | Jocelyn...</td>\n",
       "      <td>[hair, beauty, hairstyle, skin, long, hair, li...</td>\n",
       "      <td>hair beauty hairstyle skin long hair lip hand ...</td>\n",
       "    </tr>\n",
       "    <tr>\n",
       "      <th>1</th>\n",
       "      <td>2</td>\n",
       "      <td>https://instagram.fftw1-1.fna.fbcdn.net/v/t51....</td>\n",
       "      <td>1018</td>\n",
       "      <td>False</td>\n",
       "      <td>330690</td>\n",
       "      <td>Photo by Charlie Hamilton James @chamiltonjame...</td>\n",
       "      <td>[sky, wildlife, natural, environment, ecoregio...</td>\n",
       "      <td>sky wildlife natural environment ecoregion mar...</td>\n",
       "    </tr>\n",
       "    <tr>\n",
       "      <th>2</th>\n",
       "      <td>3</td>\n",
       "      <td>https://instagram.fftw1-1.fna.fbcdn.net/v/t51....</td>\n",
       "      <td>660</td>\n",
       "      <td>False</td>\n",
       "      <td>217013</td>\n",
       "      <td>Photo by @brianskerry | A great white shark sw...</td>\n",
       "      <td>[great, white, shark, shark, lamniformes, tige...</td>\n",
       "      <td>great white shark shark lamniformes tiger shar...</td>\n",
       "    </tr>\n",
       "    <tr>\n",
       "      <th>3</th>\n",
       "      <td>4</td>\n",
       "      <td>https://instagram.fftw1-1.fna.fbcdn.net/v/t51....</td>\n",
       "      <td>1458</td>\n",
       "      <td>False</td>\n",
       "      <td>281516</td>\n",
       "      <td>Photo by @gabrielegalimbertiphoto and Juri De ...</td>\n",
       "      <td>[room, living, room, furniture, interior, desi...</td>\n",
       "      <td>room living room furniture interior design tab...</td>\n",
       "    </tr>\n",
       "    <tr>\n",
       "      <th>4</th>\n",
       "      <td>5</td>\n",
       "      <td>https://instagram.fftw1-1.fna.fbcdn.net/v/t51....</td>\n",
       "      <td>540</td>\n",
       "      <td>False</td>\n",
       "      <td>161964</td>\n",
       "      <td>Photo by @amivitale | Jenabu, 13, waits for he...</td>\n",
       "      <td>[face, black, people, skin, child, head, lip, ...</td>\n",
       "      <td>face black people skin child head lip eyebrow ...</td>\n",
       "    </tr>\n",
       "  </tbody>\n",
       "</table>\n",
       "</div>"
      ],
      "text/plain": [
       "   Index                                        display_url  comments  \\\n",
       "0      0  https://instagram.fftw1-1.fna.fbcdn.net/v/t51....       145   \n",
       "1      2  https://instagram.fftw1-1.fna.fbcdn.net/v/t51....      1018   \n",
       "2      3  https://instagram.fftw1-1.fna.fbcdn.net/v/t51....       660   \n",
       "3      4  https://instagram.fftw1-1.fna.fbcdn.net/v/t51....      1458   \n",
       "4      5  https://instagram.fftw1-1.fna.fbcdn.net/v/t51....       540   \n",
       "\n",
       "   is_video   likes                                            caption  \\\n",
       "0     False   31505  Photo by Amber Bracken @photobracken | Jocelyn...   \n",
       "1     False  330690  Photo by Charlie Hamilton James @chamiltonjame...   \n",
       "2     False  217013  Photo by @brianskerry | A great white shark sw...   \n",
       "3     False  281516  Photo by @gabrielegalimbertiphoto and Juri De ...   \n",
       "4     False  161964  Photo by @amivitale | Jenabu, 13, waits for he...   \n",
       "\n",
       "                                              labels  \\\n",
       "0  [hair, beauty, hairstyle, skin, long, hair, li...   \n",
       "1  [sky, wildlife, natural, environment, ecoregio...   \n",
       "2  [great, white, shark, shark, lamniformes, tige...   \n",
       "3  [room, living, room, furniture, interior, desi...   \n",
       "4  [face, black, people, skin, child, head, lip, ...   \n",
       "\n",
       "                                      labels_strings  \n",
       "0  hair beauty hairstyle skin long hair lip hand ...  \n",
       "1  sky wildlife natural environment ecoregion mar...  \n",
       "2  great white shark shark lamniformes tiger shar...  \n",
       "3  room living room furniture interior design tab...  \n",
       "4  face black people skin child head lip eyebrow ...  "
      ]
     },
     "execution_count": 10,
     "metadata": {},
     "output_type": "execute_result"
    }
   ],
   "source": [
    "df.head()"
   ]
  },
  {
   "cell_type": "markdown",
   "metadata": {},
   "source": [
    "### Task A\n",
    "Create a metric for engagement by using a weighted sum of # likes and # comments. However, first normalize # likes and # comments such that they both have values between 0 and 1. You can scale the # likes by dividing by the maximum # likes (for a post) in your data and do the same for # comments, so that # likes and comments will be in the range [0,1]. Now create an engagement score = .4*# likes (normalized) + .6*# comments (normalized). Define High (1) and Low (0) engagement based on whether the engagement score is above or below the median value.  "
   ]
  },
  {
   "cell_type": "code",
   "execution_count": 11,
   "metadata": {},
   "outputs": [],
   "source": [
    "df[\"likes_normalized\"] = df[\"likes\"]/df[\"likes\"].max() \n",
    "df[\"comments_normalized\"] = df[\"comments\"]/df[\"comments\"].max()"
   ]
  },
  {
   "cell_type": "code",
   "execution_count": 12,
   "metadata": {},
   "outputs": [],
   "source": [
    "## Create engagement score\n",
    "df[\"engagement_score\"] = 0.4*df[\"likes_normalized\"] + 0.6*df[\"comments_normalized\"]"
   ]
  },
  {
   "cell_type": "code",
   "execution_count": 13,
   "metadata": {},
   "outputs": [],
   "source": [
    "engagement_median = df[\"engagement_score\"].median()\n",
    "df[\"engagement\"] = df[\"engagement_score\"].apply(lambda x: 1 if x > engagement_median else 0)"
   ]
  },
  {
   "cell_type": "code",
   "execution_count": 14,
   "metadata": {},
   "outputs": [
    {
     "data": {
      "text/html": [
       "<div>\n",
       "<style scoped>\n",
       "    .dataframe tbody tr th:only-of-type {\n",
       "        vertical-align: middle;\n",
       "    }\n",
       "\n",
       "    .dataframe tbody tr th {\n",
       "        vertical-align: top;\n",
       "    }\n",
       "\n",
       "    .dataframe thead th {\n",
       "        text-align: right;\n",
       "    }\n",
       "</style>\n",
       "<table border=\"1\" class=\"dataframe\">\n",
       "  <thead>\n",
       "    <tr style=\"text-align: right;\">\n",
       "      <th></th>\n",
       "      <th>Index</th>\n",
       "      <th>display_url</th>\n",
       "      <th>comments</th>\n",
       "      <th>is_video</th>\n",
       "      <th>likes</th>\n",
       "      <th>caption</th>\n",
       "      <th>labels</th>\n",
       "      <th>labels_strings</th>\n",
       "      <th>likes_normalized</th>\n",
       "      <th>comments_normalized</th>\n",
       "      <th>engagement_score</th>\n",
       "      <th>engagement</th>\n",
       "    </tr>\n",
       "  </thead>\n",
       "  <tbody>\n",
       "    <tr>\n",
       "      <th>0</th>\n",
       "      <td>0</td>\n",
       "      <td>https://instagram.fftw1-1.fna.fbcdn.net/v/t51....</td>\n",
       "      <td>145</td>\n",
       "      <td>False</td>\n",
       "      <td>31505</td>\n",
       "      <td>Photo by Amber Bracken @photobracken | Jocelyn...</td>\n",
       "      <td>[hair, beauty, hairstyle, skin, long, hair, li...</td>\n",
       "      <td>hair beauty hairstyle skin long hair lip hand ...</td>\n",
       "      <td>0.019494</td>\n",
       "      <td>0.011139</td>\n",
       "      <td>0.014481</td>\n",
       "      <td>0</td>\n",
       "    </tr>\n",
       "    <tr>\n",
       "      <th>1</th>\n",
       "      <td>2</td>\n",
       "      <td>https://instagram.fftw1-1.fna.fbcdn.net/v/t51....</td>\n",
       "      <td>1018</td>\n",
       "      <td>False</td>\n",
       "      <td>330690</td>\n",
       "      <td>Photo by Charlie Hamilton James @chamiltonjame...</td>\n",
       "      <td>[sky, wildlife, natural, environment, ecoregio...</td>\n",
       "      <td>sky wildlife natural environment ecoregion mar...</td>\n",
       "      <td>0.204620</td>\n",
       "      <td>0.078205</td>\n",
       "      <td>0.128771</td>\n",
       "      <td>1</td>\n",
       "    </tr>\n",
       "    <tr>\n",
       "      <th>2</th>\n",
       "      <td>3</td>\n",
       "      <td>https://instagram.fftw1-1.fna.fbcdn.net/v/t51....</td>\n",
       "      <td>660</td>\n",
       "      <td>False</td>\n",
       "      <td>217013</td>\n",
       "      <td>Photo by @brianskerry | A great white shark sw...</td>\n",
       "      <td>[great, white, shark, shark, lamniformes, tige...</td>\n",
       "      <td>great white shark shark lamniformes tiger shar...</td>\n",
       "      <td>0.134280</td>\n",
       "      <td>0.050703</td>\n",
       "      <td>0.084134</td>\n",
       "      <td>0</td>\n",
       "    </tr>\n",
       "    <tr>\n",
       "      <th>3</th>\n",
       "      <td>4</td>\n",
       "      <td>https://instagram.fftw1-1.fna.fbcdn.net/v/t51....</td>\n",
       "      <td>1458</td>\n",
       "      <td>False</td>\n",
       "      <td>281516</td>\n",
       "      <td>Photo by @gabrielegalimbertiphoto and Juri De ...</td>\n",
       "      <td>[room, living, room, furniture, interior, desi...</td>\n",
       "      <td>room living room furniture interior design tab...</td>\n",
       "      <td>0.174193</td>\n",
       "      <td>0.112007</td>\n",
       "      <td>0.136882</td>\n",
       "      <td>1</td>\n",
       "    </tr>\n",
       "    <tr>\n",
       "      <th>4</th>\n",
       "      <td>5</td>\n",
       "      <td>https://instagram.fftw1-1.fna.fbcdn.net/v/t51....</td>\n",
       "      <td>540</td>\n",
       "      <td>False</td>\n",
       "      <td>161964</td>\n",
       "      <td>Photo by @amivitale | Jenabu, 13, waits for he...</td>\n",
       "      <td>[face, black, people, skin, child, head, lip, ...</td>\n",
       "      <td>face black people skin child head lip eyebrow ...</td>\n",
       "      <td>0.100218</td>\n",
       "      <td>0.041484</td>\n",
       "      <td>0.064978</td>\n",
       "      <td>0</td>\n",
       "    </tr>\n",
       "  </tbody>\n",
       "</table>\n",
       "</div>"
      ],
      "text/plain": [
       "   Index                                        display_url  comments  \\\n",
       "0      0  https://instagram.fftw1-1.fna.fbcdn.net/v/t51....       145   \n",
       "1      2  https://instagram.fftw1-1.fna.fbcdn.net/v/t51....      1018   \n",
       "2      3  https://instagram.fftw1-1.fna.fbcdn.net/v/t51....       660   \n",
       "3      4  https://instagram.fftw1-1.fna.fbcdn.net/v/t51....      1458   \n",
       "4      5  https://instagram.fftw1-1.fna.fbcdn.net/v/t51....       540   \n",
       "\n",
       "   is_video   likes                                            caption  \\\n",
       "0     False   31505  Photo by Amber Bracken @photobracken | Jocelyn...   \n",
       "1     False  330690  Photo by Charlie Hamilton James @chamiltonjame...   \n",
       "2     False  217013  Photo by @brianskerry | A great white shark sw...   \n",
       "3     False  281516  Photo by @gabrielegalimbertiphoto and Juri De ...   \n",
       "4     False  161964  Photo by @amivitale | Jenabu, 13, waits for he...   \n",
       "\n",
       "                                              labels  \\\n",
       "0  [hair, beauty, hairstyle, skin, long, hair, li...   \n",
       "1  [sky, wildlife, natural, environment, ecoregio...   \n",
       "2  [great, white, shark, shark, lamniformes, tige...   \n",
       "3  [room, living, room, furniture, interior, desi...   \n",
       "4  [face, black, people, skin, child, head, lip, ...   \n",
       "\n",
       "                                      labels_strings  likes_normalized  \\\n",
       "0  hair beauty hairstyle skin long hair lip hand ...          0.019494   \n",
       "1  sky wildlife natural environment ecoregion mar...          0.204620   \n",
       "2  great white shark shark lamniformes tiger shar...          0.134280   \n",
       "3  room living room furniture interior design tab...          0.174193   \n",
       "4  face black people skin child head lip eyebrow ...          0.100218   \n",
       "\n",
       "   comments_normalized  engagement_score  engagement  \n",
       "0             0.011139          0.014481           0  \n",
       "1             0.078205          0.128771           1  \n",
       "2             0.050703          0.084134           0  \n",
       "3             0.112007          0.136882           1  \n",
       "4             0.041484          0.064978           0  "
      ]
     },
     "execution_count": 14,
     "metadata": {},
     "output_type": "execute_result"
    }
   ],
   "source": [
    "df.head()"
   ]
  },
  {
   "cell_type": "markdown",
   "metadata": {},
   "source": [
    "### Task B\n",
    "Run a logistic regression with Engagement (binary) as the dependent variable, and the image labels as independent variables. What is the accuracy (show the confusion matrix)? What accuracy do you get by using the post caption words as the independent variables instead of image labels? Finally, what accuracy do you get by combining the image labels and post captions and using them as independent variables? What can you conclude from your analysis? \n",
    "\n",
    "Note: Doing a word frequency analysis and word replacement on the image labels as well as captions will increase the accuracy of prediction. Needless to say, TF-IDF scores should be used. "
   ]
  },
  {
   "cell_type": "markdown",
   "metadata": {},
   "source": [
    "#### Logistic Regression with Labels to Predict Engagement"
   ]
  },
  {
   "cell_type": "code",
   "execution_count": 13,
   "metadata": {},
   "outputs": [],
   "source": [
    "import pandas as pd\n",
    "from pandas import DataFrame, Series\n",
    "import urllib.request \n",
    "import statsmodels.api as sm\n",
    "import math\n",
    "import numpy as np\n",
    "from sklearn.feature_extraction.text import TfidfVectorizer\n",
    "from sklearn.linear_model import LogisticRegression\n",
    "from sklearn.metrics import accuracy_score, roc_auc_score, confusion_matrix, f1_score\n",
    "from sklearn.model_selection import train_test_split"
   ]
  },
  {
   "cell_type": "code",
   "execution_count": 14,
   "metadata": {},
   "outputs": [
    {
     "name": "stderr",
     "output_type": "stream",
     "text": [
      "C:\\Users\\Sahana\\Anaconda3\\lib\\site-packages\\sklearn\\linear_model\\logistic.py:432: FutureWarning: Default solver will be changed to 'lbfgs' in 0.22. Specify a solver to silence this warning.\n",
      "  FutureWarning)\n"
     ]
    },
    {
     "name": "stdout",
     "output_type": "stream",
     "text": [
      "Accuracy with Image Labels: 0.7073170731707317\n",
      "Confusion Matrix:\n",
      "[[32  9]\n",
      " [15 26]]\n"
     ]
    }
   ],
   "source": [
    "# Keeping all labels intact and using tf-idf score\n",
    "vectorizer = TfidfVectorizer()\n",
    "X = vectorizer.fit_transform(df['labels_strings'].tolist())\n",
    "q = vectorizer.get_feature_names()\n",
    "l = pd.DataFrame(X.toarray())\n",
    "for i in range(len(q)):\n",
    "    l = l.rename(columns={i: q[i]}) \n",
    "\n",
    "l['engagement'] = df['engagement']\n",
    "\n",
    "\n",
    "X_train, X_test, y_train, y_test = train_test_split(l.iloc[:,:-1], l['engagement'], test_size=0.20, random_state=42)\n",
    "\n",
    "clf = LogisticRegression(random_state=0).fit(X_train,y_train )\n",
    "print(\"Accuracy with Image Labels: \" + str(clf.score(X_test, y_test)))\n",
    "print(\"Confusion Matrix:\")\n",
    "print(confusion_matrix(y_test, clf.predict(X_test)))"
   ]
  },
  {
   "cell_type": "markdown",
   "metadata": {},
   "source": [
    "#### Logistic Regression with Captions to Predict Engagement"
   ]
  },
  {
   "cell_type": "code",
   "execution_count": 15,
   "metadata": {},
   "outputs": [
    {
     "name": "stdout",
     "output_type": "stream",
     "text": [
      "Accuracy with Caption Labels: 0.6219512195121951\n",
      "Confusion Matrix:\n",
      "[[24 17]\n",
      " [14 27]]\n"
     ]
    }
   ],
   "source": [
    "# Keeping all captions intact and using tf-idf score\n",
    "vectorizer = TfidfVectorizer()\n",
    "X = vectorizer.fit_transform(df['caption'].tolist())\n",
    "q = vectorizer.get_feature_names()\n",
    "l = pd.DataFrame(X.toarray())\n",
    "for i in range(len(q)):\n",
    "    l = l.rename(columns={i: q[i]}) \n",
    "\n",
    "l['engagementVal'] = df['engagement']\n",
    "\n",
    "X_train, X_test, y_train, y_test = train_test_split(l.iloc[:,:-1], l['engagementVal'], test_size=0.20, random_state=42)\n",
    "\n",
    "clf = LogisticRegression(random_state=0, solver='lbfgs').fit(X_train,y_train )\n",
    "print(\"Accuracy with Caption Labels: \" + str(clf.score(X_test, y_test)))\n",
    "print(\"Confusion Matrix:\")\n",
    "print(confusion_matrix(y_test, clf.predict(X_test)))"
   ]
  },
  {
   "cell_type": "markdown",
   "metadata": {},
   "source": [
    "#### Logistic Regression with Captions and Labels to Predict Engagement"
   ]
  },
  {
   "cell_type": "code",
   "execution_count": 16,
   "metadata": {},
   "outputs": [],
   "source": [
    "df['caption+labels'] = df['caption'] + \" \" + df['labels_strings']"
   ]
  },
  {
   "cell_type": "code",
   "execution_count": 17,
   "metadata": {},
   "outputs": [
    {
     "name": "stdout",
     "output_type": "stream",
     "text": [
      "Accuracy with both Captions and Image Labels: 0.7185185185185186\n",
      "Confusion Matrix:\n",
      "[[52 15]\n",
      " [23 45]]\n"
     ]
    }
   ],
   "source": [
    "vectorizer = TfidfVectorizer()\n",
    "X = vectorizer.fit_transform(df['caption+labels'].tolist())\n",
    "q = vectorizer.get_feature_names()\n",
    "l = pd.DataFrame(X.toarray())\n",
    "for i in range(len(q)):\n",
    "    l = l.rename(columns={i: q[i]}) \n",
    "\n",
    "l['engagementVal'] = df['engagement']\n",
    "\n",
    "X_train, X_test, y_train, y_test = train_test_split(l.iloc[:,:-1], l['engagementVal'], test_size=0.33, random_state=42)\n",
    "\n",
    "clf = LogisticRegression(random_state=0, solver='lbfgs').fit(X_train,y_train )\n",
    "print(\"Accuracy with both Captions and Image Labels: \" + str(clf.score(X_test, y_test)))\n",
    "print(\"Confusion Matrix:\")\n",
    "print(confusion_matrix(y_test, clf.predict(X_test)))"
   ]
  },
  {
   "cell_type": "markdown",
   "metadata": {},
   "source": [
    "Looking at just the image labels from Google Vision, we can predict the engagement of the post with an accuracy of 70.7%. With the caption labels off of Instagram, our accuracy of predicting engagement is 62.2%. Combining the captions and labels, the achieved accuracy of our prediction increases to 71.9%. Thus, we can see that the best model to predict engagement will be by using both the captions and the labels. This makes sense, as the Instagram caption does bear some weight in determining engagement, but is not necessarily sufficient, as captions may be slightly unrelated to the actual image. Combining these captions with the labels off of Google Vision, we are able to better predict engagement, as Google Vision has already been exposed to a variety of images that can then be used to determine the labels."
   ]
  },
  {
   "cell_type": "markdown",
   "metadata": {},
   "source": [
    "### Task C\n",
    "Perform topic modeling (LDA) on the image labels. Choose an appropriate number of topics. You may want to start with 5, but adjust the number up or down depending on the word distributions you get. LDA should produce two outputs: (i) A file showing which words load on which topics, and (ii) a file showing topic weights for each image. \n",
    "\n",
    "Now take the quartiles with highest and lowest engagement scores. What are the differences in the average topic weights of pictures across the two quartiles (e.g., greater proportion of some topics in highest engagement quartile)? Show the main results in a table. "
   ]
  },
  {
   "cell_type": "code",
   "execution_count": 15,
   "metadata": {},
   "outputs": [
    {
     "name": "stderr",
     "output_type": "stream",
     "text": [
      "[nltk_data] Downloading package punkt to\n",
      "[nltk_data]     C:\\Users\\Sahana\\AppData\\Roaming\\nltk_data...\n",
      "[nltk_data]   Package punkt is already up-to-date!\n"
     ]
    },
    {
     "data": {
      "text/plain": [
       "True"
      ]
     },
     "execution_count": 15,
     "metadata": {},
     "output_type": "execute_result"
    }
   ],
   "source": [
    "# NLTK Stop words\n",
    "from nltk.corpus import stopwords\n",
    "stop_words = stopwords.words('english')\n",
    "import nltk\n",
    "nltk.download('punkt')"
   ]
  },
  {
   "cell_type": "code",
   "execution_count": 16,
   "metadata": {},
   "outputs": [],
   "source": [
    "## Removing stop words, punctuation and tokenizing\n",
    "stop = stopwords.words('english')\n",
    "## stop=stop+['photography']\n",
    "df[\"labels\"] = df[\"labels\"].astype(str)\n",
    "df[\"label_tokens\"] = df[\"labels\"].apply(lambda each_post: word_tokenize(re.sub(r'[^\\w\\s]',' ',each_post.lower())))\n",
    "df[\"label_tokens\"] = df[\"label_tokens\"].apply(lambda list_of_words: [x for x in list_of_words if x not in stop])"
   ]
  },
  {
   "cell_type": "code",
   "execution_count": 20,
   "metadata": {},
   "outputs": [
    {
     "data": {
      "text/html": [
       "<div>\n",
       "<style scoped>\n",
       "    .dataframe tbody tr th:only-of-type {\n",
       "        vertical-align: middle;\n",
       "    }\n",
       "\n",
       "    .dataframe tbody tr th {\n",
       "        vertical-align: top;\n",
       "    }\n",
       "\n",
       "    .dataframe thead th {\n",
       "        text-align: right;\n",
       "    }\n",
       "</style>\n",
       "<table border=\"1\" class=\"dataframe\">\n",
       "  <thead>\n",
       "    <tr style=\"text-align: right;\">\n",
       "      <th></th>\n",
       "      <th>Index</th>\n",
       "      <th>display_url</th>\n",
       "      <th>comments</th>\n",
       "      <th>is_video</th>\n",
       "      <th>likes</th>\n",
       "      <th>caption</th>\n",
       "      <th>labels</th>\n",
       "      <th>labels_strings</th>\n",
       "      <th>likes_normalized</th>\n",
       "      <th>comments_normalized</th>\n",
       "      <th>engagement_score</th>\n",
       "      <th>engagement</th>\n",
       "      <th>caption+labels</th>\n",
       "      <th>label_tokens</th>\n",
       "    </tr>\n",
       "  </thead>\n",
       "  <tbody>\n",
       "    <tr>\n",
       "      <th>0</th>\n",
       "      <td>0</td>\n",
       "      <td>https://instagram.fftw1-1.fna.fbcdn.net/v/t51....</td>\n",
       "      <td>145</td>\n",
       "      <td>False</td>\n",
       "      <td>31505</td>\n",
       "      <td>Photo by Amber Bracken @photobracken | Jocelyn...</td>\n",
       "      <td>['hair', 'beauty', 'hairstyle', 'skin', 'long'...</td>\n",
       "      <td>hair beauty hairstyle skin long hair lip hand ...</td>\n",
       "      <td>0.019494</td>\n",
       "      <td>0.011139</td>\n",
       "      <td>0.014481</td>\n",
       "      <td>0</td>\n",
       "      <td>Photo by Amber Bracken @photobracken | Jocelyn...</td>\n",
       "      <td>[hair, beauty, hairstyle, skin, long, hair, li...</td>\n",
       "    </tr>\n",
       "    <tr>\n",
       "      <th>1</th>\n",
       "      <td>2</td>\n",
       "      <td>https://instagram.fftw1-1.fna.fbcdn.net/v/t51....</td>\n",
       "      <td>1018</td>\n",
       "      <td>False</td>\n",
       "      <td>330690</td>\n",
       "      <td>Photo by Charlie Hamilton James @chamiltonjame...</td>\n",
       "      <td>['sky', 'wildlife', 'natural', 'environment', ...</td>\n",
       "      <td>sky wildlife natural environment ecoregion mar...</td>\n",
       "      <td>0.204620</td>\n",
       "      <td>0.078205</td>\n",
       "      <td>0.128771</td>\n",
       "      <td>1</td>\n",
       "      <td>Photo by Charlie Hamilton James @chamiltonjame...</td>\n",
       "      <td>[sky, wildlife, natural, environment, ecoregio...</td>\n",
       "    </tr>\n",
       "    <tr>\n",
       "      <th>2</th>\n",
       "      <td>3</td>\n",
       "      <td>https://instagram.fftw1-1.fna.fbcdn.net/v/t51....</td>\n",
       "      <td>660</td>\n",
       "      <td>False</td>\n",
       "      <td>217013</td>\n",
       "      <td>Photo by @brianskerry | A great white shark sw...</td>\n",
       "      <td>['great', 'white', 'shark', 'shark', 'lamnifor...</td>\n",
       "      <td>great white shark shark lamniformes tiger shar...</td>\n",
       "      <td>0.134280</td>\n",
       "      <td>0.050703</td>\n",
       "      <td>0.084134</td>\n",
       "      <td>0</td>\n",
       "      <td>Photo by @brianskerry | A great white shark sw...</td>\n",
       "      <td>[great, white, shark, shark, lamniformes, tige...</td>\n",
       "    </tr>\n",
       "    <tr>\n",
       "      <th>3</th>\n",
       "      <td>4</td>\n",
       "      <td>https://instagram.fftw1-1.fna.fbcdn.net/v/t51....</td>\n",
       "      <td>1458</td>\n",
       "      <td>False</td>\n",
       "      <td>281516</td>\n",
       "      <td>Photo by @gabrielegalimbertiphoto and Juri De ...</td>\n",
       "      <td>['room', 'living', 'room', 'furniture', 'inter...</td>\n",
       "      <td>room living room furniture interior design tab...</td>\n",
       "      <td>0.174193</td>\n",
       "      <td>0.112007</td>\n",
       "      <td>0.136882</td>\n",
       "      <td>1</td>\n",
       "      <td>Photo by @gabrielegalimbertiphoto and Juri De ...</td>\n",
       "      <td>[room, living, room, furniture, interior, desi...</td>\n",
       "    </tr>\n",
       "    <tr>\n",
       "      <th>4</th>\n",
       "      <td>5</td>\n",
       "      <td>https://instagram.fftw1-1.fna.fbcdn.net/v/t51....</td>\n",
       "      <td>540</td>\n",
       "      <td>False</td>\n",
       "      <td>161964</td>\n",
       "      <td>Photo by @amivitale | Jenabu, 13, waits for he...</td>\n",
       "      <td>['face', 'black', 'people', 'skin', 'child', '...</td>\n",
       "      <td>face black people skin child head lip eyebrow ...</td>\n",
       "      <td>0.100218</td>\n",
       "      <td>0.041484</td>\n",
       "      <td>0.064978</td>\n",
       "      <td>0</td>\n",
       "      <td>Photo by @amivitale | Jenabu, 13, waits for he...</td>\n",
       "      <td>[face, black, people, skin, child, head, lip, ...</td>\n",
       "    </tr>\n",
       "  </tbody>\n",
       "</table>\n",
       "</div>"
      ],
      "text/plain": [
       "   Index                                        display_url  comments  \\\n",
       "0      0  https://instagram.fftw1-1.fna.fbcdn.net/v/t51....       145   \n",
       "1      2  https://instagram.fftw1-1.fna.fbcdn.net/v/t51....      1018   \n",
       "2      3  https://instagram.fftw1-1.fna.fbcdn.net/v/t51....       660   \n",
       "3      4  https://instagram.fftw1-1.fna.fbcdn.net/v/t51....      1458   \n",
       "4      5  https://instagram.fftw1-1.fna.fbcdn.net/v/t51....       540   \n",
       "\n",
       "   is_video   likes                                            caption  \\\n",
       "0     False   31505  Photo by Amber Bracken @photobracken | Jocelyn...   \n",
       "1     False  330690  Photo by Charlie Hamilton James @chamiltonjame...   \n",
       "2     False  217013  Photo by @brianskerry | A great white shark sw...   \n",
       "3     False  281516  Photo by @gabrielegalimbertiphoto and Juri De ...   \n",
       "4     False  161964  Photo by @amivitale | Jenabu, 13, waits for he...   \n",
       "\n",
       "                                              labels  \\\n",
       "0  ['hair', 'beauty', 'hairstyle', 'skin', 'long'...   \n",
       "1  ['sky', 'wildlife', 'natural', 'environment', ...   \n",
       "2  ['great', 'white', 'shark', 'shark', 'lamnifor...   \n",
       "3  ['room', 'living', 'room', 'furniture', 'inter...   \n",
       "4  ['face', 'black', 'people', 'skin', 'child', '...   \n",
       "\n",
       "                                      labels_strings  likes_normalized  \\\n",
       "0  hair beauty hairstyle skin long hair lip hand ...          0.019494   \n",
       "1  sky wildlife natural environment ecoregion mar...          0.204620   \n",
       "2  great white shark shark lamniformes tiger shar...          0.134280   \n",
       "3  room living room furniture interior design tab...          0.174193   \n",
       "4  face black people skin child head lip eyebrow ...          0.100218   \n",
       "\n",
       "   comments_normalized  engagement_score  engagement  \\\n",
       "0             0.011139          0.014481           0   \n",
       "1             0.078205          0.128771           1   \n",
       "2             0.050703          0.084134           0   \n",
       "3             0.112007          0.136882           1   \n",
       "4             0.041484          0.064978           0   \n",
       "\n",
       "                                      caption+labels  \\\n",
       "0  Photo by Amber Bracken @photobracken | Jocelyn...   \n",
       "1  Photo by Charlie Hamilton James @chamiltonjame...   \n",
       "2  Photo by @brianskerry | A great white shark sw...   \n",
       "3  Photo by @gabrielegalimbertiphoto and Juri De ...   \n",
       "4  Photo by @amivitale | Jenabu, 13, waits for he...   \n",
       "\n",
       "                                        label_tokens  \n",
       "0  [hair, beauty, hairstyle, skin, long, hair, li...  \n",
       "1  [sky, wildlife, natural, environment, ecoregio...  \n",
       "2  [great, white, shark, shark, lamniformes, tige...  \n",
       "3  [room, living, room, furniture, interior, desi...  \n",
       "4  [face, black, people, skin, child, head, lip, ...  "
      ]
     },
     "execution_count": 20,
     "metadata": {},
     "output_type": "execute_result"
    }
   ],
   "source": [
    "df.head()"
   ]
  },
  {
   "cell_type": "code",
   "execution_count": 17,
   "metadata": {},
   "outputs": [],
   "source": [
    "def bigrams(words, bi_min=15, tri_min=10):\n",
    "    bigram = gensim.models.Phrases(words, min_count = bi_min)\n",
    "    bigram_mod = gensim.models.phrases.Phraser(bigram)\n",
    "    return bigram_mod"
   ]
  },
  {
   "cell_type": "code",
   "execution_count": 18,
   "metadata": {},
   "outputs": [],
   "source": [
    "def get_corpus(df):\n",
    "    \"\"\"\n",
    "    Get Bigram Model, Corpus, id2word mapping\n",
    "    \"\"\"\n",
    "    bigram = bigrams(df.label_tokens)\n",
    "    bigram = [bigram[review] for review in df.label_tokens]\n",
    "    id2word = gensim.corpora.Dictionary(bigram)\n",
    "    id2word.filter_extremes(no_below=10, no_above=0.35)\n",
    "    id2word.compactify()\n",
    "    corpus = [id2word.doc2bow(text) for text in bigram]\n",
    "    return corpus, id2word, bigram"
   ]
  },
  {
   "cell_type": "code",
   "execution_count": 19,
   "metadata": {},
   "outputs": [],
   "source": [
    "train_corpus, train_id2word, bigram_train = get_corpus(df)"
   ]
  },
  {
   "cell_type": "code",
   "execution_count": 20,
   "metadata": {},
   "outputs": [],
   "source": [
    "import logging\n",
    "logging.basicConfig(filename='lda_model.log', format='%(asctime)s : %(levelname)s : %(message)s', level=logging.INFO)\n",
    "\n",
    "with warnings.catch_warnings():\n",
    "    warnings.simplefilter('ignore')\n",
    "    lda_train = gensim.models.ldamulticore.LdaMulticore(\n",
    "                           corpus=train_corpus,\n",
    "                           num_topics=10,\n",
    "                           id2word=train_id2word,\n",
    "                           chunksize=100,\n",
    "                           workers=7, # Num. Processing Cores - 1\n",
    "                           passes=50,\n",
    "                           eval_every = 1,\n",
    "                           per_word_topics=True)\n",
    "    lda_train.save('lda_train.model')"
   ]
  },
  {
   "cell_type": "code",
   "execution_count": 21,
   "metadata": {},
   "outputs": [
    {
     "name": "stdout",
     "output_type": "stream",
     "text": [
      "The coherence of the LDA model is 0.35633773881336384\n"
     ]
    }
   ],
   "source": [
    "coherence_model_lda = CoherenceModel(model=lda_train, texts=bigram_train, dictionary=train_id2word, coherence='c_v')\n",
    "coherence_lda = coherence_model_lda.get_coherence()\n",
    "print(\"The coherence of the LDA model is\",coherence_lda)"
   ]
  },
  {
   "cell_type": "code",
   "execution_count": 22,
   "metadata": {},
   "outputs": [
    {
     "data": {
      "text/plain": [
       "[(0,\n",
       "  '0.166*\"wildlife\" + 0.102*\"vertebrate\" + 0.098*\"terrestrial_animal\" + 0.094*\"mammal\" + 0.069*\"carnivore\" + 0.065*\"horse\" + 0.062*\"snout\" + 0.057*\"canidae\" + 0.056*\"adaptation\" + 0.055*\"reptile\"'),\n",
       " (1,\n",
       "  '0.169*\"mountain\" + 0.099*\"rock\" + 0.089*\"bird\" + 0.084*\"geological_phenomenon\" + 0.080*\"mountainous_landforms\" + 0.076*\"sky\" + 0.054*\"hill\" + 0.052*\"nature\" + 0.043*\"geology\" + 0.039*\"wilderness\"'),\n",
       " (2,\n",
       "  '0.241*\"water\" + 0.142*\"sea\" + 0.093*\"sky\" + 0.066*\"nature\" + 0.063*\"ocean\" + 0.062*\"green\" + 0.053*\"marine\" + 0.038*\"natural_landscape\" + 0.034*\"mammal\" + 0.032*\"wilderness\"'),\n",
       " (3,\n",
       "  '0.097*\"white\" + 0.084*\"black\" + 0.082*\"photography\" + 0.072*\"fish\" + 0.072*\"dog\" + 0.059*\"monochrome\" + 0.059*\"hair\" + 0.047*\"biology\" + 0.040*\"marine\" + 0.038*\"beauty\"'),\n",
       " (4,\n",
       "  '0.136*\"fun\" + 0.123*\"event\" + 0.120*\"photography\" + 0.069*\"people\" + 0.069*\"tourism\" + 0.068*\"vehicle\" + 0.058*\"crowd\" + 0.054*\"leisure\" + 0.046*\"recreation\" + 0.041*\"tradition\"'),\n",
       " (5,\n",
       "  '0.122*\"adaptation\" + 0.089*\"art\" + 0.088*\"human\" + 0.085*\"smile\" + 0.070*\"photography\" + 0.067*\"forest\" + 0.067*\"reflection\" + 0.038*\"plant\" + 0.037*\"water\" + 0.035*\"child\"'),\n",
       " (6,\n",
       "  '0.160*\"sky\" + 0.079*\"atmospheric_phenomenon\" + 0.074*\"room\" + 0.070*\"design\" + 0.068*\"atmosphere\" + 0.056*\"cloud\" + 0.054*\"grassland\" + 0.051*\"morning\" + 0.051*\"nature\" + 0.046*\"natural_landscape\"'),\n",
       " (7,\n",
       "  '0.132*\"plant\" + 0.114*\"tree\" + 0.105*\"sky\" + 0.099*\"blue\" + 0.061*\"cloud\" + 0.058*\"horizon\" + 0.053*\"water\" + 0.042*\"landscape\" + 0.041*\"branch\" + 0.040*\"woody\"'),\n",
       " (8,\n",
       "  '0.102*\"grass\" + 0.082*\"photography\" + 0.076*\"night\" + 0.074*\"sky\" + 0.062*\"architecture\" + 0.055*\"area\" + 0.055*\"tree\" + 0.054*\"light\" + 0.047*\"temple\" + 0.044*\"plant\"'),\n",
       " (9,\n",
       "  '0.241*\"ice\" + 0.149*\"arctic\" + 0.125*\"natural_environment\" + 0.103*\"cap\" + 0.073*\"landform\" + 0.072*\"ocean\" + 0.052*\"sea\" + 0.035*\"sky\" + 0.034*\"atmospheric_phenomenon\" + 0.018*\"water\"')]"
      ]
     },
     "execution_count": 22,
     "metadata": {},
     "output_type": "execute_result"
    }
   ],
   "source": [
    "lda_train.print_topics()"
   ]
  },
  {
   "cell_type": "markdown",
   "metadata": {},
   "source": [
    "#### Visualize the Topics (For our reference)"
   ]
  },
  {
   "cell_type": "code",
   "execution_count": 23,
   "metadata": {},
   "outputs": [
    {
     "name": "stderr",
     "output_type": "stream",
     "text": [
      "C:\\Users\\Sahana\\Anaconda3\\lib\\site-packages\\pyLDAvis\\_prepare.py:257: FutureWarning: Sorting because non-concatenation axis is not aligned. A future version\n",
      "of pandas will change to not sort by default.\n",
      "\n",
      "To accept the future behavior, pass 'sort=False'.\n",
      "\n",
      "To retain the current behavior and silence the warning, pass 'sort=True'.\n",
      "\n",
      "  return pd.concat([default_term_info] + list(topic_dfs))\n"
     ]
    },
    {
     "data": {
      "text/html": [
       "\n",
       "<link rel=\"stylesheet\" type=\"text/css\" href=\"https://cdn.rawgit.com/bmabey/pyLDAvis/files/ldavis.v1.0.0.css\">\n",
       "\n",
       "\n",
       "<div id=\"ldavis_el1038421053128890162538963804\"></div>\n",
       "<script type=\"text/javascript\">\n",
       "\n",
       "var ldavis_el1038421053128890162538963804_data = {\"mdsDat\": {\"x\": [-0.30538852694168633, -0.19190631371167585, 0.18946011099688934, -0.2396561602324929, 0.09636336724747091, 0.18318672640777764, 0.20478268418291798, 0.08610000161186218, -0.09453327349992935, 0.07159138393886669], \"y\": [-0.05058204204095373, 0.3079908085303709, -0.05211719699250407, -0.18077010714281505, -0.1919191971738324, 0.016313369648623594, -0.04100398029605826, 0.11426526542938933, -0.11258085807392533, 0.19040393811170425], \"topics\": [1, 2, 3, 4, 5, 6, 7, 8, 9, 10], \"cluster\": [1, 1, 1, 1, 1, 1, 1, 1, 1, 1], \"Freq\": [13.707200050354004, 11.697280883789062, 10.350385665893555, 10.172558784484863, 10.08242416381836, 9.935314178466797, 9.835836410522461, 9.450862884521484, 9.340258598327637, 5.42788028717041]}, \"tinfo\": {\"Category\": [\"Default\", \"Default\", \"Default\", \"Default\", \"Default\", \"Default\", \"Default\", \"Default\", \"Default\", \"Default\", \"Default\", \"Default\", \"Default\", \"Default\", \"Default\", \"Default\", \"Default\", \"Default\", \"Default\", \"Default\", \"Default\", \"Default\", \"Default\", \"Default\", \"Default\", \"Default\", \"Default\", \"Default\", \"Default\", \"Default\", \"Topic1\", \"Topic1\", \"Topic1\", \"Topic1\", \"Topic1\", \"Topic1\", \"Topic1\", \"Topic1\", \"Topic1\", \"Topic1\", \"Topic1\", \"Topic1\", \"Topic1\", \"Topic1\", \"Topic1\", \"Topic1\", \"Topic1\", \"Topic1\", \"Topic1\", \"Topic1\", \"Topic1\", \"Topic1\", \"Topic1\", \"Topic1\", \"Topic1\", \"Topic1\", \"Topic1\", \"Topic1\", \"Topic1\", \"Topic1\", \"Topic1\", \"Topic1\", \"Topic1\", \"Topic1\", \"Topic1\", \"Topic1\", \"Topic1\", \"Topic2\", \"Topic2\", \"Topic2\", \"Topic2\", \"Topic2\", \"Topic2\", \"Topic2\", \"Topic2\", \"Topic2\", \"Topic2\", \"Topic2\", \"Topic2\", \"Topic2\", \"Topic2\", \"Topic2\", \"Topic2\", \"Topic2\", \"Topic2\", \"Topic2\", \"Topic2\", \"Topic2\", \"Topic2\", \"Topic2\", \"Topic2\", \"Topic2\", \"Topic2\", \"Topic2\", \"Topic2\", \"Topic2\", \"Topic2\", \"Topic2\", \"Topic2\", \"Topic2\", \"Topic2\", \"Topic2\", \"Topic2\", \"Topic2\", \"Topic2\", \"Topic2\", \"Topic2\", \"Topic2\", \"Topic2\", \"Topic3\", \"Topic3\", \"Topic3\", \"Topic3\", \"Topic3\", \"Topic3\", \"Topic3\", \"Topic3\", \"Topic3\", \"Topic3\", \"Topic3\", \"Topic3\", \"Topic3\", \"Topic3\", \"Topic3\", \"Topic3\", \"Topic3\", \"Topic3\", \"Topic3\", \"Topic3\", \"Topic3\", \"Topic3\", \"Topic3\", \"Topic3\", \"Topic3\", \"Topic3\", \"Topic3\", \"Topic3\", \"Topic3\", \"Topic3\", \"Topic3\", \"Topic3\", \"Topic3\", \"Topic3\", \"Topic3\", \"Topic4\", \"Topic4\", \"Topic4\", \"Topic4\", \"Topic4\", \"Topic4\", \"Topic4\", \"Topic4\", \"Topic4\", \"Topic4\", \"Topic4\", \"Topic4\", \"Topic4\", \"Topic4\", \"Topic4\", \"Topic4\", \"Topic4\", \"Topic4\", \"Topic4\", \"Topic4\", \"Topic4\", \"Topic4\", \"Topic4\", \"Topic4\", \"Topic4\", \"Topic4\", \"Topic4\", \"Topic4\", \"Topic4\", \"Topic4\", \"Topic4\", \"Topic4\", \"Topic4\", \"Topic4\", \"Topic4\", \"Topic4\", \"Topic4\", \"Topic4\", \"Topic5\", \"Topic5\", \"Topic5\", \"Topic5\", \"Topic5\", \"Topic5\", \"Topic5\", \"Topic5\", \"Topic5\", \"Topic5\", \"Topic5\", \"Topic5\", \"Topic5\", \"Topic5\", \"Topic5\", \"Topic5\", \"Topic5\", \"Topic5\", \"Topic5\", \"Topic5\", \"Topic5\", \"Topic5\", \"Topic5\", \"Topic5\", \"Topic5\", \"Topic5\", \"Topic5\", \"Topic5\", \"Topic5\", \"Topic5\", \"Topic5\", \"Topic5\", \"Topic5\", \"Topic5\", \"Topic6\", \"Topic6\", \"Topic6\", \"Topic6\", \"Topic6\", \"Topic6\", \"Topic6\", \"Topic6\", \"Topic6\", \"Topic6\", \"Topic6\", \"Topic6\", \"Topic6\", \"Topic6\", \"Topic6\", \"Topic6\", \"Topic6\", \"Topic6\", \"Topic6\", \"Topic6\", \"Topic6\", \"Topic6\", \"Topic6\", \"Topic6\", \"Topic6\", \"Topic6\", \"Topic6\", \"Topic6\", \"Topic6\", \"Topic6\", \"Topic6\", \"Topic6\", \"Topic6\", \"Topic6\", \"Topic6\", \"Topic6\", \"Topic6\", \"Topic6\", \"Topic6\", \"Topic6\", \"Topic7\", \"Topic7\", \"Topic7\", \"Topic7\", \"Topic7\", \"Topic7\", \"Topic7\", \"Topic7\", \"Topic7\", \"Topic7\", \"Topic7\", \"Topic7\", \"Topic7\", \"Topic7\", \"Topic7\", \"Topic7\", \"Topic7\", \"Topic7\", \"Topic7\", \"Topic7\", \"Topic7\", \"Topic7\", \"Topic7\", \"Topic7\", \"Topic7\", \"Topic7\", \"Topic7\", \"Topic7\", \"Topic7\", \"Topic7\", \"Topic7\", \"Topic7\", \"Topic7\", \"Topic7\", \"Topic7\", \"Topic7\", \"Topic7\", \"Topic8\", \"Topic8\", \"Topic8\", \"Topic8\", \"Topic8\", \"Topic8\", \"Topic8\", \"Topic8\", \"Topic8\", \"Topic8\", \"Topic8\", \"Topic8\", \"Topic8\", \"Topic8\", \"Topic8\", \"Topic8\", \"Topic8\", \"Topic8\", \"Topic8\", \"Topic8\", \"Topic8\", \"Topic8\", \"Topic8\", \"Topic8\", \"Topic8\", \"Topic8\", \"Topic8\", \"Topic8\", \"Topic8\", \"Topic8\", \"Topic8\", \"Topic8\", \"Topic8\", \"Topic8\", \"Topic8\", \"Topic8\", \"Topic8\", \"Topic8\", \"Topic8\", \"Topic8\", \"Topic9\", \"Topic9\", \"Topic9\", \"Topic9\", \"Topic9\", \"Topic9\", \"Topic9\", \"Topic9\", \"Topic9\", \"Topic9\", \"Topic9\", \"Topic9\", \"Topic9\", \"Topic9\", \"Topic9\", \"Topic9\", \"Topic9\", \"Topic9\", \"Topic9\", \"Topic9\", \"Topic9\", \"Topic9\", \"Topic9\", \"Topic9\", \"Topic9\", \"Topic9\", \"Topic9\", \"Topic9\", \"Topic9\", \"Topic9\", \"Topic9\", \"Topic9\", \"Topic9\", \"Topic9\", \"Topic9\", \"Topic9\", \"Topic10\", \"Topic10\", \"Topic10\", \"Topic10\", \"Topic10\", \"Topic10\", \"Topic10\", \"Topic10\", \"Topic10\", \"Topic10\", \"Topic10\", \"Topic10\", \"Topic10\", \"Topic10\", \"Topic10\", \"Topic10\", \"Topic10\", \"Topic10\", \"Topic10\", \"Topic10\", \"Topic10\", \"Topic10\", \"Topic10\", \"Topic10\", \"Topic10\", \"Topic10\", \"Topic10\", \"Topic10\", \"Topic10\", \"Topic10\", \"Topic10\", \"Topic10\", \"Topic10\", \"Topic10\", \"Topic10\", \"Topic10\", \"Topic10\", \"Topic10\", \"Topic10\", \"Topic10\", \"Topic10\", \"Topic10\", \"Topic10\", \"Topic10\", \"Topic10\"], \"Freq\": [76.0, 29.0, 39.0, 52.0, 117.0, 31.0, 39.0, 87.0, 48.0, 28.0, 43.0, 30.0, 27.0, 18.0, 54.0, 26.0, 23.0, 23.0, 32.0, 32.0, 26.0, 20.0, 25.0, 19.0, 24.0, 30.0, 43.0, 18.0, 22.0, 22.0, 29.39352798461914, 25.612979888916016, 21.832551956176758, 21.83232307434082, 18.051971435546875, 18.051191329956055, 14.263711929321289, 11.436027526855469, 11.435914993286133, 10.490822792053223, 10.490793228149414, 10.145916938781738, 8.000885963439941, 11.21319580078125, 12.087957382202148, 5.065184116363525, 11.41115951538086, 24.950725555419922, 6.833252906799316, 6.189382076263428, 2.0857276916503906, 1.3603980541229248, 3.9310355186462402, 0.407457560300827, 0.094513900578022, 0.09455638378858566, 0.0945378765463829, 0.09452623873949051, 0.094513900578022, 0.09454090148210526, 0.13020172715187073, 0.1283893585205078, 0.10266204178333282, 0.09773345291614532, 0.09837357699871063, 0.09628546237945557, 0.09743675589561462, 26.354127883911133, 25.41881561279297, 17.908044815063477, 16.03833770751953, 14.163541793823242, 16.739395141601562, 14.791358947753906, 10.411917686462402, 9.473915100097656, 42.92220687866211, 24.449901580810547, 13.250072479248047, 14.547855377197266, 1.5797090530395508, 2.221782684326172, 0.9134089946746826, 0.23365895450115204, 0.0938025414943695, 0.09380697458982468, 0.09385477006435394, 0.09381202608346939, 0.09380970150232315, 0.09382741153240204, 0.09381068497896194, 0.0938025414943695, 0.0938025414943695, 0.09380330890417099, 0.0938025414943695, 0.09383870661258698, 0.09383870661258698, 0.12107597291469574, 0.17794795334339142, 0.10354334115982056, 0.10146936774253845, 0.10154367983341217, 0.10359235107898712, 0.09544339030981064, 0.09390459209680557, 0.09390344470739365, 0.09387721121311188, 0.09386707097291946, 0.09385015070438385, 22.60417938232422, 13.225062370300293, 9.47339153289795, 9.24951171875, 8.475131034851074, 8.367814064025879, 30.271127700805664, 5.738773345947266, 26.195711135864258, 13.935626029968262, 9.541751861572266, 4.345801830291748, 24.040054321289062, 12.092567443847656, 2.0993645191192627, 4.1126885414123535, 3.130554676055908, 2.089022636413574, 2.0296404361724854, 3.293943405151367, 3.127918243408203, 2.069720506668091, 2.077066421508789, 0.4351535439491272, 0.26040807366371155, 0.09382113069295883, 0.09379744529724121, 0.09380415827035904, 0.0938296839594841, 0.09379744529724121, 0.2932942807674408, 0.1063910573720932, 0.09594915062189102, 0.09389566630125046, 0.09389562159776688, 30.553682327270508, 27.801536560058594, 13.024650573730469, 12.101024627685547, 9.318278312683105, 15.353869438171387, 15.443089485168457, 10.441140174865723, 15.520483016967773, 6.805253028869629, 9.13241195678711, 4.4714765548706055, 7.6862711906433105, 26.962886810302734, 2.9072530269622803, 2.455958127975464, 2.08711314201355, 1.3532178401947021, 2.0357303619384766, 1.9396272897720337, 0.7352181077003479, 0.19528540968894958, 0.0923890471458435, 0.09237626940011978, 0.09237626940011978, 0.09237626940011978, 0.09238988906145096, 0.09237626940011978, 0.09238838404417038, 0.09238626062870026, 0.13830991089344025, 0.09723659604787827, 0.09556230902671814, 0.0931653305888176, 0.0942925438284874, 0.0928473100066185, 0.0928167775273323, 0.09256505221128464, 22.697498321533203, 12.000614166259766, 9.469132423400879, 12.382270812988281, 9.416325569152832, 13.888004302978516, 6.645576477050781, 10.498754501342773, 17.063390731811523, 7.780776023864746, 8.114362716674805, 2.5440828800201416, 12.27873706817627, 18.413408279418945, 9.797155380249023, 2.0393190383911133, 3.6291091442108154, 3.1332266330718994, 6.378489971160889, 16.578094482421875, 2.726832151412964, 1.4495325088500977, 3.427337884902954, 2.7528085708618164, 1.1653573513031006, 0.10609859973192215, 0.09503868967294693, 0.0942300334572792, 0.09423189610242844, 0.0942300334572792, 0.2713276445865631, 0.16001728177070618, 0.09599090367555618, 0.09603918343782425, 19.567916870117188, 17.62110137939453, 37.09151077270508, 11.771048545837402, 9.40599536895752, 18.481937408447266, 8.290472984313965, 21.701610565185547, 8.655051231384277, 11.363114356994629, 7.330013751983643, 6.263394355773926, 7.581308364868164, 5.227476596832275, 2.05940318107605, 16.826419830322266, 1.4489408731460571, 1.6670163869857788, 0.11542073637247086, 0.09735511988401413, 0.09743632376194, 0.09738349914550781, 0.09735511988401413, 0.09736565500497818, 0.09735511988401413, 0.09735739231109619, 0.0974038764834404, 0.09735839813947678, 0.09735511988401413, 0.09737234562635422, 0.09736772626638412, 0.09799815714359283, 0.09758501499891281, 0.0975671261548996, 0.09751838445663452, 0.09744764864444733, 0.09742716699838638, 0.09742165356874466, 0.09741641581058502, 0.09739403426647186, 15.279707908630371, 11.092967987060547, 14.741135597229004, 7.589574813842773, 16.030960083007812, 17.288665771484375, 11.794394493103027, 10.025810241699219, 6.538553237915039, 34.75526428222656, 12.206683158874512, 3.2248587608337402, 7.61313009262085, 11.06655216217041, 4.201589107513428, 5.243985652923584, 8.016289710998535, 7.156064033508301, 1.1645739078521729, 2.1347126960754395, 1.8486785888671875, 1.1138577461242676, 0.24596604704856873, 0.10119947791099548, 0.10119852423667908, 0.10120201855897903, 0.10122127830982208, 0.10122207552194595, 0.10120748728513718, 0.10120042413473129, 0.10246376693248749, 0.10173521935939789, 0.10164981335401535, 0.1016177386045456, 0.10130557417869568, 0.10125067830085754, 0.10124976933002472, 29.68939971923828, 50.37894821166992, 12.983397483825684, 5.928056240081787, 13.147062301635742, 11.086610794067383, 5.729029178619385, 6.683619499206543, 13.777144432067871, 5.5410566329956055, 7.915097713470459, 4.258288383483887, 7.023163318634033, 19.392175674438477, 4.911664962768555, 2.3431901931762695, 0.3816254734992981, 0.25298938155174255, 0.09845057874917984, 0.09847177565097809, 0.09846123307943344, 0.0984761118888855, 0.09848291426897049, 0.09845119714736938, 0.09846485406160355, 0.09852340817451477, 0.09861036390066147, 0.09845660626888275, 0.09845317900180817, 0.0984688326716423, 0.10723886638879776, 0.21915143728256226, 0.10216495394706726, 0.10062151402235031, 0.09995808452367783, 0.09959891438484192, 0.09900353848934174, 0.09862801432609558, 0.09855621308088303, 0.09855176508426666, 17.48406982421875, 18.329853057861328, 13.823901176452637, 13.77607250213623, 18.28255844116211, 25.13422203063965, 4.993473052978516, 7.300567150115967, 3.7357664108276367, 3.825439214706421, 5.546178817749023, 2.5035104751586914, 6.237040996551514, 2.1410348415374756, 5.4563307762146, 14.451728820800781, 7.900187015533447, 6.191072940826416, 7.162674903869629, 1.8853099346160889, 7.666368007659912, 1.4447263479232788, 1.9720592498779297, 1.850763201713562, 1.1481014490127563, 0.09155520051717758, 0.09156093001365662, 0.0915696918964386, 0.09156876057386398, 0.09156067669391632, 0.11330998688936234, 0.10908970236778259, 0.09192384779453278, 0.09379761666059494, 0.09326206892728806, 0.09304835647344589, 28.973814010620117, 17.87276268005371, 12.322196960449219, 8.777600288391113, 15.070911407470703, 8.638729095458984, 6.237895965576172, 4.142849445343018, 4.22283411026001, 1.2210204601287842, 2.105822801589966, 1.2555795907974243, 0.11101234704256058, 0.11101459711790085, 0.11101234704256058, 0.11106225848197937, 0.11103636026382446, 0.11101234704256058, 0.11101234704256058, 0.11101234704256058, 0.11119002848863602, 0.11116886883974075, 0.11104470491409302, 0.11101234704256058, 0.11103123426437378, 0.11101234704256058, 0.11101234704256058, 0.11101234704256058, 0.11102435737848282, 0.11101234704256058, 0.1131090596318245, 0.11154995858669281, 0.11187604814767838, 0.11133749037981033, 0.1112760454416275, 0.11118682473897934, 0.11118189245462418, 0.11111070215702057, 0.11110885441303253, 0.11108706146478653, 0.1110815778374672, 0.1110805943608284, 0.11107905954122543, 0.11107385903596878, 0.11106488108634949], \"Term\": [\"water\", \"ice\", \"mountain\", \"wildlife\", \"sky\", \"fun\", \"sea\", \"photography\", \"plant\", \"event\", \"adaptation\", \"white\", \"vertebrate\", \"arctic\", \"tree\", \"terrestrial_animal\", \"grass\", \"blue\", \"mammal\", \"natural_environment\", \"black\", \"bird\", \"human\", \"art\", \"ocean\", \"rock\", \"nature\", \"smile\", \"fish\", \"dog\", \"white\", \"black\", \"fish\", \"dog\", \"monochrome\", \"hair\", \"biology\", \"beauty\", \"skin\", \"face\", \"head\", \"photograph\", \"lady\", \"underwater\", \"marine\", \"group\", \"organism\", \"photography\", \"human\", \"people\", \"darkness\", \"child\", \"water\", \"canidae\", \"tradition\", \"yellow\", \"family\", \"felidae\", \"branch\", \"reserve\", \"room\", \"nature\", \"carnivore\", \"green\", \"fun\", \"snout\", \"vertebrate\", \"vertebrate\", \"terrestrial_animal\", \"carnivore\", \"snout\", \"reptile\", \"horse\", \"canidae\", \"animal\", \"felidae\", \"wildlife\", \"mammal\", \"organism\", \"adaptation\", \"beak\", \"recreation\", \"photography\", \"marine\", \"tradition\", \"yellow\", \"group\", \"family\", \"branch\", \"reserve\", \"ecoregion\", \"winter\", \"lady\", \"sand\", \"city\", \"head\", \"face\", \"green\", \"sky\", \"underwater\", \"biology\", \"grass\", \"sea\", \"water\", \"dog\", \"tree\", \"bird\", \"light\", \"darkness\", \"blue\", \"horizon\", \"branch\", \"woody\", \"sand\", \"winter\", \"plant\", \"yellow\", \"tree\", \"cloud\", \"landscape\", \"atmosphere\", \"sky\", \"water\", \"morning\", \"rock\", \"natural_environment\", \"green\", \"ocean\", \"sea\", \"adaptation\", \"night\", \"atmospheric_phenomenon\", \"light\", \"landform\", \"tradition\", \"group\", \"family\", \"felidae\", \"reserve\", \"wildlife\", \"vacation\", \"art\", \"face\", \"head\", \"fun\", \"event\", \"crowd\", \"leisure\", \"tradition\", \"vehicle\", \"tourism\", \"recreation\", \"people\", \"vacation\", \"child\", \"group\", \"room\", \"photography\", \"family\", \"city\", \"winter\", \"photograph\", \"geological_phenomenon\", \"green\", \"tree\", \"horse\", \"yellow\", \"branch\", \"felidae\", \"reserve\", \"beak\", \"ecoregion\", \"animal\", \"lady\", \"night\", \"art\", \"water\", \"hair\", \"sky\", \"cloud\", \"plant\", \"architecture\", \"grass\", \"light\", \"field\", \"area\", \"darkness\", \"architecture\", \"family\", \"temple\", \"night\", \"grassland\", \"landscape\", \"ecoregion\", \"tree\", \"photography\", \"plant\", \"sand\", \"green\", \"tourism\", \"cloud\", \"sky\", \"wilderness\", \"geology\", \"natural_environment\", \"natural_landscape\", \"people\", \"tradition\", \"yellow\", \"group\", \"branch\", \"felidae\", \"rock\", \"art\", \"smile\", \"event\", \"bird\", \"mountainous_landforms\", \"mountain\", \"hill\", \"geology\", \"geological_phenomenon\", \"beak\", \"rock\", \"wilderness\", \"nature\", \"natural_landscape\", \"landscape\", \"cloud\", \"atmospheric_phenomenon\", \"landform\", \"sky\", \"night\", \"photography\", \"winter\", \"tradition\", \"yellow\", \"group\", \"family\", \"branch\", \"felidae\", \"reserve\", \"ecoregion\", \"animal\", \"lady\", \"sand\", \"city\", \"wildlife\", \"art\", \"adaptation\", \"vertebrate\", \"canidae\", \"black\", \"white\", \"organism\", \"smile\", \"design\", \"morning\", \"atmosphere\", \"ecoregion\", \"room\", \"atmospheric_phenomenon\", \"grassland\", \"natural_landscape\", \"architecture\", \"sky\", \"cloud\", \"city\", \"night\", \"nature\", \"reflection\", \"landscape\", \"tree\", \"wildlife\", \"field\", \"geological_phenomenon\", \"wilderness\", \"green\", \"horse\", \"tradition\", \"yellow\", \"group\", \"family\", \"branch\", \"felidae\", \"reserve\", \"event\", \"mountain\", \"grass\", \"water\", \"photography\", \"hair\", \"marine\", \"sea\", \"water\", \"green\", \"reserve\", \"ocean\", \"marine\", \"vacation\", \"wilderness\", \"nature\", \"recreation\", \"natural_landscape\", \"underwater\", \"mammal\", \"sky\", \"natural_environment\", \"rock\", \"grassland\", \"tourism\", \"tradition\", \"yellow\", \"group\", \"family\", \"branch\", \"felidae\", \"beak\", \"ecoregion\", \"winter\", \"lady\", \"animal\", \"sand\", \"hill\", \"wildlife\", \"grass\", \"geological_phenomenon\", \"terrestrial_animal\", \"vertebrate\", \"fun\", \"landscape\", \"tree\", \"vehicle\", \"smile\", \"art\", \"forest\", \"reflection\", \"human\", \"adaptation\", \"city\", \"child\", \"yellow\", \"reserve\", \"temple\", \"lady\", \"people\", \"woody\", \"natural_environment\", \"photography\", \"plant\", \"nature\", \"tree\", \"area\", \"water\", \"vehicle\", \"rock\", \"cloud\", \"sky\", \"tradition\", \"group\", \"family\", \"branch\", \"felidae\", \"night\", \"fun\", \"winter\", \"natural_landscape\", \"sea\", \"wildlife\", \"ice\", \"arctic\", \"cap\", \"landform\", \"natural_environment\", \"ocean\", \"sea\", \"atmospheric_phenomenon\", \"sky\", \"mountain\", \"water\", \"wildlife\", \"tradition\", \"yellow\", \"group\", \"family\", \"felidae\", \"branch\", \"reserve\", \"beak\", \"ecoregion\", \"winter\", \"animal\", \"lady\", \"sand\", \"city\", \"head\", \"face\", \"field\", \"geology\", \"cloud\", \"reptile\", \"fun\", \"people\", \"event\", \"mammal\", \"smile\", \"crowd\", \"vertebrate\", \"green\", \"adaptation\", \"temple\", \"grassland\", \"vehicle\", \"leisure\"], \"Total\": [76.0, 29.0, 39.0, 52.0, 117.0, 31.0, 39.0, 87.0, 48.0, 28.0, 43.0, 30.0, 27.0, 18.0, 54.0, 26.0, 23.0, 23.0, 32.0, 32.0, 26.0, 20.0, 25.0, 19.0, 24.0, 30.0, 43.0, 18.0, 22.0, 22.0, 30.267526626586914, 26.486957550048828, 22.706432342529297, 22.706327438354492, 18.925867080688477, 18.92582893371582, 15.145236015319824, 12.309896469116211, 12.309882164001465, 11.364761352539062, 11.364741325378418, 12.280659675598145, 11.286652565002441, 16.25667381286621, 24.089847564697266, 10.31816291809082, 25.441972732543945, 87.76378631591797, 25.898143768310547, 29.708303451538086, 12.281743049621582, 18.483266830444336, 76.65901184082031, 15.97896957397461, 10.206087112426758, 10.258452415466309, 10.334668159484863, 10.348488807678223, 10.347975730895996, 10.531839370727539, 24.52799415588379, 43.01169204711914, 18.790773391723633, 22.274391174316406, 31.452468872070312, 16.91468620300293, 27.233022689819336, 27.233022689819336, 26.29499626159668, 18.790773391723633, 16.91468620300293, 15.038674354553223, 17.861658096313477, 15.97896957397461, 11.286507606506348, 10.348488807678223, 52.32019805908203, 32.25, 25.441972732543945, 43.501163482666016, 10.647415161132812, 18.887779235839844, 87.76378631591797, 24.089847564697266, 10.206087112426758, 10.258452415466309, 10.31816291809082, 10.334668159484863, 10.347975730895996, 10.531839370727539, 10.90683364868164, 11.255813598632812, 11.286652565002441, 11.294824600219727, 11.357575416564941, 11.364741325378418, 11.364761352539062, 22.274391174316406, 117.33198547363281, 16.25667381286621, 15.145236015319824, 23.58357810974121, 39.8978385925293, 76.65901184082031, 22.706327438354492, 54.884010314941406, 20.439210891723633, 13.2164945602417, 12.281743049621582, 23.479543685913086, 14.099844932556152, 10.347975730895996, 12.173606872558594, 11.294824600219727, 11.255813598632812, 48.65776062011719, 10.258452415466309, 54.884010314941406, 42.44575881958008, 29.74560546875, 19.860389709472656, 117.33198547363281, 76.65901184082031, 13.965739250183105, 30.895593643188477, 32.47627258300781, 22.274391174316406, 24.48074722290039, 39.8978385925293, 43.501163482666016, 28.844799041748047, 29.301122665405273, 13.2164945602417, 11.76360034942627, 10.206087112426758, 10.31816291809082, 10.334668159484863, 10.348488807678223, 10.531839370727539, 52.32019805908203, 13.324698448181152, 19.280345916748047, 11.364761352539062, 11.364741325378418, 31.452468872070312, 28.681293487548828, 13.900915145874023, 12.977151870727539, 10.206087112426758, 17.58367156982422, 19.512731552124023, 18.887779235839844, 29.708303451538086, 13.324698448181152, 18.483266830444336, 10.31816291809082, 24.52799415588379, 87.76378631591797, 10.334668159484863, 11.357575416564941, 11.255813598632812, 12.280659675598145, 23.332292556762695, 22.274391174316406, 54.884010314941406, 17.861658096313477, 10.258452415466309, 10.347975730895996, 10.348488807678223, 10.531839370727539, 10.647415161132812, 10.90683364868164, 11.286507606506348, 11.286652565002441, 28.844799041748047, 19.280345916748047, 76.65901184082031, 18.92582893371582, 117.33198547363281, 42.44575881958008, 48.65776062011719, 21.19974708557129, 23.58357810974121, 13.2164945602417, 11.406725883483887, 15.05022144317627, 12.281743049621582, 21.19974708557129, 10.334668159484863, 16.827640533447266, 28.844799041748047, 20.631498336791992, 29.74560546875, 10.90683364868164, 54.884010314941406, 87.76378631591797, 48.65776062011719, 11.294824600219727, 22.274391174316406, 19.512731552124023, 42.44575881958008, 117.33198547363281, 20.491455078125, 11.63232135772705, 32.47627258300781, 28.603137969970703, 29.708303451538086, 10.206087112426758, 10.258452415466309, 10.31816291809082, 10.347975730895996, 10.348488807678223, 30.895593643188477, 19.280345916748047, 18.36289405822754, 28.681293487548828, 20.439210891723633, 18.492162704467773, 39.07326126098633, 12.650923728942871, 11.63232135772705, 23.332292556762695, 10.647415161132812, 30.895593643188477, 20.491455078125, 43.01169204711914, 28.603137969970703, 29.74560546875, 42.44575881958008, 29.301122665405273, 11.76360034942627, 117.33198547363281, 28.844799041748047, 87.76378631591797, 11.255813598632812, 10.206087112426758, 10.258452415466309, 10.31816291809082, 10.334668159484863, 10.347975730895996, 10.348488807678223, 10.531839370727539, 10.90683364868164, 11.286507606506348, 11.286652565002441, 11.294824600219727, 11.357575416564941, 52.32019805908203, 19.280345916748047, 43.501163482666016, 27.233022689819336, 15.97896957397461, 26.486957550048828, 30.267526626586914, 25.441972732543945, 18.36289405822754, 16.147899627685547, 13.965739250183105, 19.860389709472656, 10.90683364868164, 24.52799415588379, 29.301122665405273, 20.631498336791992, 28.603137969970703, 21.19974708557129, 117.33198547363281, 42.44575881958008, 11.357575416564941, 28.844799041748047, 43.01169204711914, 18.753625869750977, 29.74560546875, 54.884010314941406, 52.32019805908203, 11.406725883483887, 23.332292556762695, 20.491455078125, 22.274391174316406, 17.861658096313477, 10.206087112426758, 10.258452415466309, 10.31816291809082, 10.334668159484863, 10.347975730895996, 10.348488807678223, 10.531839370727539, 28.681293487548828, 39.07326126098633, 23.58357810974121, 76.65901184082031, 87.76378631591797, 18.92582893371582, 24.089847564697266, 39.8978385925293, 76.65901184082031, 22.274391174316406, 10.531839370727539, 24.48074722290039, 24.089847564697266, 13.324698448181152, 20.491455078125, 43.01169204711914, 18.887779235839844, 28.603137969970703, 16.25667381286621, 32.25, 117.33198547363281, 32.47627258300781, 30.895593643188477, 20.631498336791992, 19.512731552124023, 10.206087112426758, 10.258452415466309, 10.31816291809082, 10.334668159484863, 10.347975730895996, 10.348488807678223, 10.647415161132812, 10.90683364868164, 11.255813598632812, 11.286652565002441, 11.286507606506348, 11.294824600219727, 12.650923728942871, 52.32019805908203, 23.58357810974121, 23.332292556762695, 26.29499626159668, 27.233022689819336, 31.452468872070312, 29.74560546875, 54.884010314941406, 17.58367156982422, 18.36289405822754, 19.280345916748047, 14.700831413269043, 18.753625869750977, 25.898143768310547, 43.501163482666016, 11.357575416564941, 18.483266830444336, 10.258452415466309, 10.531839370727539, 16.827640533447266, 11.286652565002441, 29.708303451538086, 12.173606872558594, 32.47627258300781, 87.76378631591797, 48.65776062011719, 43.01169204711914, 54.884010314941406, 15.05022144317627, 76.65901184082031, 17.58367156982422, 30.895593643188477, 42.44575881958008, 117.33198547363281, 10.206087112426758, 10.31816291809082, 10.334668159484863, 10.347975730895996, 10.348488807678223, 28.844799041748047, 31.452468872070312, 11.255813598632812, 28.603137969970703, 39.8978385925293, 52.32019805908203, 29.83141326904297, 18.730207443237305, 13.179594039916992, 11.76360034942627, 32.47627258300781, 24.48074722290039, 39.8978385925293, 29.301122665405273, 117.33198547363281, 39.07326126098633, 76.65901184082031, 52.32019805908203, 10.206087112426758, 10.258452415466309, 10.31816291809082, 10.334668159484863, 10.348488807678223, 10.347975730895996, 10.531839370727539, 10.647415161132812, 10.90683364868164, 11.255813598632812, 11.286507606506348, 11.286652565002441, 11.294824600219727, 11.357575416564941, 11.364741325378418, 11.364761352539062, 11.406725883483887, 11.63232135772705, 42.44575881958008, 15.038674354553223, 31.452468872070312, 29.708303451538086, 28.681293487548828, 32.25, 18.36289405822754, 13.900915145874023, 27.233022689819336, 22.274391174316406, 43.501163482666016, 16.827640533447266, 20.631498336791992, 17.58367156982422, 12.977151870727539], \"loglift\": [30.0, 29.0, 28.0, 27.0, 26.0, 25.0, 24.0, 23.0, 22.0, 21.0, 20.0, 19.0, 18.0, 17.0, 16.0, 15.0, 14.0, 13.0, 12.0, 11.0, 10.0, 9.0, 8.0, 7.0, 6.0, 5.0, 4.0, 3.0, 2.0, 1.0, 1.957900047302246, 1.9536999464035034, 1.9479999542236328, 1.9479999542236328, 1.940000057220459, 1.9399000406265259, 1.927299976348877, 1.913599967956543, 1.913599967956543, 1.9071999788284302, 1.9071999788284302, 1.7963000535964966, 1.6432000398635864, 1.6158000230789185, 1.297700047492981, 1.2756999731063843, 1.1854000091552734, 0.7294999957084656, 0.6549000144004822, 0.4187000095844269, 0.2143000066280365, -0.6218000054359436, -0.9832000136375427, -1.6818000078201294, -2.694700002670288, -2.699399948120117, -2.7070000171661377, -2.7084999084472656, -2.7086000442504883, -2.7258999347686768, -3.251199960708618, -3.826900005340576, -3.222399950027466, -3.441699981689453, -3.7802000045776367, -3.1814000606536865, -3.645699977874756, 2.11299991607666, 2.1119000911712646, 2.0977001190185547, 2.092600107192993, 2.085900068283081, 2.080899953842163, 2.0685999393463135, 2.065200090408325, 2.057499885559082, 1.9478000402450562, 1.868899941444397, 1.493399977684021, 1.0505000352859497, 0.23770000040531158, 0.00559999980032444, -2.4193999767303467, -2.4899001121520996, -2.5436999797821045, -2.548799991607666, -2.5541000366210938, -2.5562000274658203, -2.557499885559082, -2.574899911880493, -2.610100030899048, -2.6415998935699463, -2.644399881362915, -2.6451001167297363, -2.650599956512451, -2.650899887084961, -2.650899887084961, -3.069000005722046, -4.3454999923706055, -2.9105000495910645, -2.8598999977111816, -3.302000045776367, -3.807800054550171, -4.542799949645996, -3.3422999382019043, -4.224899768829346, -3.2374000549316406, -2.801500082015991, -2.7283999919891357, 2.2302000522613525, 2.2040998935699463, 2.179800033569336, 1.993399977684021, 1.9809000492095947, 1.9716999530792236, 1.7934999465942383, 1.6872999668121338, 1.528499960899353, 1.1543999910354614, 1.131100058555603, 0.7486000061035156, 0.6829000115394592, 0.4214000105857849, 0.373199999332428, 0.2515999972820282, -0.07119999825954437, -0.09860000014305115, -0.22190000116825104, -0.22609999775886536, -0.364300012588501, -0.36640000343322754, -0.3785000145435333, -1.145400047302246, -1.5424000024795532, -2.4212000370025635, -2.4323999881744385, -2.4339001178741455, -2.434999942779541, -2.452899932861328, -2.915800094604492, -2.5620999336242676, -3.034899950027466, -2.527899980545044, -2.527899980545044, 2.256500005722046, 2.254300117492676, 2.220400094985962, 2.21560001373291, 2.194499969482422, 2.149899959564209, 2.0515999794006348, 1.6927000284194946, 1.636199951171875, 1.6136000156402588, 1.580399990081787, 1.4493000507354736, 1.125100016593933, 1.105299949645996, 1.017199993133545, 0.7541000247001648, 0.6003999710083008, 0.07989999651908875, -0.1535000056028366, -0.15549999475479126, -2.0272998809814453, -2.2304999828338623, -2.4244000911712646, -2.433199882507324, -2.433199882507324, -2.4507999420166016, -2.4616000652313232, -2.48580002784729, -2.51990008354187, -2.51990008354187, -3.0546998977661133, -3.004199981689453, -4.401899814605713, -3.02839994430542, -4.84089994430542, -3.8394999504089355, -3.9765000343322754, -3.148400068283081, 2.2560999393463135, 2.1979000568389893, 2.1082000732421875, 2.0992000102996826, 2.028700113296509, 1.871399998664856, 1.8528000116348267, 1.82260000705719, 1.7694000005722046, 1.319200038909912, 0.9952999949455261, 0.8388000130653381, 0.796999990940094, 0.7328000068664551, 0.6916999816894531, 0.5825999975204468, 0.4799000024795532, 0.46540001034736633, 0.39910000562667847, 0.3375000059604645, 0.2775000035762787, 0.2117999941110611, 0.04569999873638153, -0.04650000110268593, -0.9440000057220459, -2.2720000743865967, -2.387200117111206, -2.4014999866485596, -2.404400110244751, -2.4045000076293945, -2.440700054168701, -2.4972000122070312, -2.9595000743865967, -3.404900074005127, 2.265500068664551, 2.2607998847961426, 2.256999969482422, 2.236999988555908, 2.09660005569458, 2.0759999752044678, 2.0589001178741455, 1.9558000564575195, 1.4471999406814575, 0.9779999852180481, 0.9474999904632568, 0.7511000037193298, 0.5864999890327454, 0.5853999853134155, 0.5665000081062317, 0.367000013589859, -0.6819999814033508, -1.6545000076293945, -2.2709999084472656, -2.3433001041412354, -2.347599983215332, -2.3538999557495117, -2.355799913406372, -2.3570001125335693, -2.3571999073028564, -2.3747000694274902, -2.4091999530792236, -2.4439001083374023, -2.4439001083374023, -2.444499969482422, -2.4500999450683594, -3.971100091934204, -2.9769999980926514, -3.7908999919891357, -3.3231000900268555, -2.790600061416626, -3.2962000370025635, -3.4296998977661133, -3.2560999393463135, -2.9302000999450684, 2.2639000415802, 2.0887999534606934, 2.0211000442504883, 1.9565000534057617, 1.8938000202178955, 1.791599988937378, 1.7598999738693237, 1.270799994468689, 1.142899990081787, 1.1024999618530273, 1.0729000568389893, 1.0600999593734741, 0.9871000051498413, 0.9616000056266785, 0.823199987411499, 0.5835000276565552, 0.3953999876976013, 0.3296999931335449, 0.037300001829862595, -0.07240000367164612, -0.08640000224113464, -0.6765000224113464, -1.9660999774932861, -2.2945001125335693, -2.2995998859405518, -2.3053998947143555, -2.30679988861084, -2.3080999851226807, -2.308300018310547, -2.325900077819824, -3.3153998851776123, -3.631700038909912, -3.1275999546051025, -4.30679988861084, -4.445099830627441, -2.9114999771118164, -3.1528000831604004, 2.063499927520752, 1.9392999410629272, 1.8193000555038452, 1.7843999862670898, 1.7374000549316406, 1.5829999446868896, 1.5149999856948853, 1.238700032234192, 1.2206000089645386, 1.132699966430664, 1.0743000507354736, 1.0194000005722046, 0.8348000049591064, 0.558899998664856, 0.4702000021934509, -0.2199999988079071, -1.631100058555603, -1.9864000082015991, -2.282099962234497, -2.2869999408721924, -2.2929000854492188, -2.2943999767303467, -2.295599937438965, -2.2960000038146973, -2.3243000507354736, -2.3478000164031982, -2.3784000873565674, -2.382699966430664, -2.382699966430664, -2.3833000659942627, -2.411400079727173, -3.116300106048584, -3.08270001411438, -3.0871999263763428, -3.2132999897003174, -3.252000093460083, -3.4019999504089355, -3.3499999046325684, -3.9632999897003174, -2.8250999450683594, 2.3217999935150146, 2.3203001022338867, 2.309299945831299, 2.0624001026153564, 2.022599935531616, 1.8222999572753906, 1.5491000413894653, 1.4419000148773193, 1.360700011253357, 1.3581000566482544, 1.2609000205993652, 0.8648999929428101, 0.8098999857902527, 0.6328999996185303, 0.5871000289916992, 0.5669999718666077, 0.5529000163078308, 0.4325000047683716, 0.3345000147819519, 0.29350000619888306, 0.06830000132322311, -0.1281999945640564, -0.3806999921798706, -0.7617999911308289, -2.2560999393463135, -2.3429999351501465, -2.353800058364868, -2.355299949645996, -2.356600046157837, -2.356800079345703, -3.1686999797821045, -3.2932000160217285, -2.436800003051758, -3.349299907684326, -3.6877999305725098, -3.961199998855591, 2.884500026702881, 2.86680006980896, 2.846400022506714, 2.620800018310547, 2.145900011062622, 1.871999979019165, 1.0578999519348145, 0.9574000239372253, -0.4108999967575073, -0.5521000027656555, -0.6809999942779541, -0.8162000179290771, -1.6074999570846558, -1.6125999689102173, -1.618399977684021, -1.6195000410079956, -1.6210999488830566, -1.6212999820709229, -1.6389000415802002, -1.6497999429702759, -1.6722999811172485, -1.7039999961853027, -1.707800030708313, -1.7080999612808228, -1.7086999416351318, -1.714400053024292, -1.715000033378601, -1.715000033378601, -1.7186000347137451, -1.7382999658584595, -3.0139999389648438, -1.9903000593185425, -2.7251999378204346, -2.6730000972747803, -2.638400077819824, -2.7564001083374023, -2.1933000087738037, -1.9155999422073364, -2.588099956512451, -2.3873000144958496, -3.0566999912261963, -2.1068999767303467, -2.310699939727783, -2.150899887084961, -1.8472000360488892], \"logprob\": [30.0, 29.0, 28.0, 27.0, 26.0, 25.0, 24.0, 23.0, 22.0, 21.0, 20.0, 19.0, 18.0, 17.0, 16.0, 15.0, 14.0, 13.0, 12.0, 11.0, 10.0, 9.0, 8.0, 7.0, 6.0, 5.0, 4.0, 3.0, 2.0, 1.0, -2.3345000743865967, -2.4721999168395996, -2.6319000720977783, -2.6319000720977783, -2.8220999240875244, -2.8220999240875244, -3.0576000213623047, -3.2785000801086426, -3.2785000801086426, -3.364799976348877, -3.364799976348877, -3.398200035095215, -3.6357998847961426, -3.2981998920440674, -3.223099946975708, -4.092899799346924, -3.2806999683380127, -2.4983999729156494, -3.7934999465942383, -3.8924999237060547, -4.980199813842773, -5.40749979019165, -4.346399784088135, -6.613100051879883, -8.074299812316895, -8.07390022277832, -8.07409954071045, -8.074199676513672, -8.074299812316895, -8.074000358581543, -7.754000186920166, -7.76800012588501, -7.991600036621094, -8.040800094604492, -8.034299850463867, -8.055700302124023, -8.043899536132812, -2.285099983215332, -2.3213000297546387, -2.6714999675750732, -2.7818000316619873, -2.906100034713745, -2.739000082015991, -2.8626999855041504, -3.2137999534606934, -3.308199882507324, -1.7973999977111816, -2.360100030899048, -2.9727001190185547, -2.879300117492676, -5.0995001792907715, -4.758399963378906, -5.647299766540527, -7.0106000900268555, -7.923299789428711, -7.923299789428711, -7.922699928283691, -7.9232001304626465, -7.9232001304626465, -7.922999858856201, -7.9232001304626465, -7.923299789428711, -7.923299789428711, -7.923299789428711, -7.923299789428711, -7.922900199890137, -7.922900199890137, -7.668099880218506, -7.2829999923706055, -7.82450008392334, -7.844699859619141, -7.843999862670898, -7.823999881744385, -7.906000137329102, -7.9222002029418945, -7.9222002029418945, -7.922500133514404, -7.922599792480469, -7.922800064086914, -2.3162999153137207, -2.852299928665161, -3.1858999729156494, -3.2098000049591064, -3.297300100326538, -3.309999942779541, -2.024199962615967, -3.6872000694274902, -2.168800115585327, -2.799999952316284, -3.1786999702453613, -3.9651999473571777, -2.254699945449829, -2.941800117492676, -4.692800045013428, -4.020299911499023, -4.2932000160217285, -4.697700023651123, -4.726600170135498, -4.242300033569336, -4.294000148773193, -4.706999778747559, -4.703499794006348, -6.266499996185303, -6.779900074005127, -7.80079984664917, -7.801000118255615, -7.801000118255615, -7.8007001876831055, -7.801000118255615, -6.660999774932861, -7.675000190734863, -7.778299808502197, -7.800000190734863, -7.800000190734863, -1.9975999593734741, -2.0920000076293945, -2.8501999378204346, -2.923799991607666, -3.1851000785827637, -2.685699939727783, -2.6798999309539795, -3.0713000297546387, -2.6749000549316406, -3.4993999004364014, -3.205199956893921, -3.9193999767303467, -3.3775999546051025, -2.1226000785827637, -4.349899768829346, -4.518599987030029, -4.681300163269043, -5.11460018157959, -4.706200122833252, -4.7546000480651855, -5.724699974060059, -7.0503997802734375, -7.798799991607666, -7.798999786376953, -7.798999786376953, -7.798999786376953, -7.798799991607666, -7.798999786376953, -7.798799991607666, -7.798900127410889, -7.395299911499023, -7.747700214385986, -7.765100002288818, -7.790500164031982, -7.77839994430542, -7.793900012969971, -7.7941999435424805, -7.796899795532227, -2.285900115966797, -2.9231998920440674, -3.160099983215332, -2.891900062561035, -3.1656999588012695, -2.7771999835968018, -3.51419997215271, -3.0569000244140625, -2.571199893951416, -3.3564999103546143, -3.314500093460083, -4.474400043487549, -2.9003000259399414, -2.4951000213623047, -3.1261000633239746, -4.6956000328063965, -4.119200229644775, -4.26609992980957, -3.5552000999450684, -2.600100040435791, -4.40500020980835, -5.036900043487549, -4.176400184631348, -4.395599842071533, -5.255199909210205, -7.651599884033203, -7.76170015335083, -7.770199775695801, -7.770199775695801, -7.770199775695801, -6.712600231170654, -7.240699768066406, -7.751699924468994, -7.751200199127197, -2.419600009918213, -2.524399995803833, -1.7800999879837036, -2.927799940109253, -3.152100086212158, -2.4767000675201416, -3.27839994430542, -2.3160998821258545, -3.235300064086914, -2.963099956512451, -3.4014999866485596, -3.558799982070923, -3.367799997329712, -3.7395999431610107, -4.67110013961792, -2.570499897003174, -5.022600173950195, -4.882400035858154, -7.552700042724609, -7.722899913787842, -7.7220001220703125, -7.722599983215332, -7.722899913787842, -7.722799777984619, -7.722899913787842, -7.722799777984619, -7.722400188446045, -7.722799777984619, -7.722899913787842, -7.722700119018555, -7.722700119018555, -7.716300010681152, -7.7204999923706055, -7.720699787139893, -7.721199989318848, -7.72189998626709, -7.722099781036377, -7.7221999168396, -7.7221999168396, -7.722499847412109, -2.656899929046631, -2.977099895477295, -2.6928000450134277, -3.356600046157837, -2.6089000701904297, -2.533400058746338, -2.915800094604492, -3.0782999992370605, -3.50570011138916, -1.8351000547409058, -2.8814001083374023, -4.212500095367432, -3.3534998893737793, -2.9795000553131104, -3.947999954223633, -3.726300001144409, -3.3018999099731445, -3.4154999256134033, -5.231100082397461, -4.625100135803223, -4.768899917602539, -5.275599956512451, -6.785999774932861, -7.674099922180176, -7.674099922180176, -7.674099922180176, -7.673900127410889, -7.673900127410889, -7.673999786376953, -7.674099922180176, -7.6616997718811035, -7.668799877166748, -7.669600009918213, -7.670000076293945, -7.672999858856201, -7.673600196838379, -7.673600196838379, -1.9527000188827515, -1.4239000082015991, -2.7797999382019043, -3.563800096511841, -2.7672998905181885, -2.9377999305725098, -3.597899913787842, -3.4437999725341797, -2.7204999923706055, -3.6312999725341797, -3.2746999263763428, -3.8945999145507812, -3.3942999839782715, -2.3785998821258545, -3.7518999576568604, -4.492000102996826, -6.30679988861084, -6.717899799346924, -7.6616997718811035, -7.661499977111816, -7.661600112915039, -7.661399841308594, -7.661399841308594, -7.6616997718811035, -7.661499977111816, -7.660999774932861, -7.660099983215332, -7.661600112915039, -7.6616997718811035, -7.661499977111816, -7.576200008392334, -6.861499786376953, -7.62470006942749, -7.639900207519531, -7.646500110626221, -7.650100231170654, -7.656099796295166, -7.659900188446045, -7.660600185394287, -7.660699844360352, -2.470400094985962, -2.4231998920440674, -2.7053000926971436, -2.7088000774383545, -2.425800085067749, -2.1075000762939453, -3.723599910736084, -3.3438000679016113, -4.013800144195557, -3.990000009536743, -3.6185998916625977, -4.414000034332275, -3.501199960708618, -4.570400238037109, -3.6349000930786133, -2.660900115966797, -3.2648000717163086, -3.5085999965667725, -3.362799882888794, -4.6975998878479, -3.2948999404907227, -4.963799953460693, -4.652599811553955, -4.716100215911865, -5.193600177764893, -7.722499847412109, -7.722499847412109, -7.722400188446045, -7.722400188446045, -7.722499847412109, -7.509300231933594, -7.547299861907959, -7.718500137329102, -7.698299884796143, -7.704100131988525, -7.706399917602539, -1.4225000143051147, -1.9056999683380127, -2.2774999141693115, -2.6166999340057373, -2.076200008392334, -2.632699966430664, -2.9583001136779785, -3.3675999641418457, -3.348400115966797, -4.589200019836426, -4.0441999435424805, -4.561299800872803, -6.986999988555908, -6.986999988555908, -6.986999988555908, -6.986599922180176, -6.986800193786621, -6.986999988555908, -6.986999988555908, -6.986999988555908, -6.985400199890137, -6.985599994659424, -6.986800193786621, -6.986999988555908, -6.9868998527526855, -6.986999988555908, -6.986999988555908, -6.986999988555908, -6.9868998527526855, -6.986999988555908, -6.968299865722656, -6.9822001457214355, -6.979300022125244, -6.984099864959717, -6.9847002029418945, -6.985499858856201, -6.985499858856201, -6.986199855804443, -6.986199855804443, -6.986400127410889, -6.986400127410889, -6.986400127410889, -6.986400127410889, -6.986499786376953, -6.986599922180176]}, \"token.table\": {\"Topic\": [2, 3, 9, 2, 5, 7, 10, 5, 9, 9, 3, 7, 3, 6, 7, 10, 2, 6, 1, 1, 6, 1, 3, 3, 2, 10, 2, 1, 4, 9, 4, 7, 9, 3, 5, 6, 7, 9, 4, 1, 5, 7, 1, 5, 7, 4, 1, 4, 5, 2, 5, 7, 1, 9, 4, 4, 6, 7, 5, 6, 5, 5, 7, 3, 4, 5, 7, 8, 1, 4, 1, 1, 6, 3, 2, 1, 9, 10, 1, 9, 6, 10, 3, 5, 6, 7, 4, 5, 2, 8, 1, 8, 1, 3, 7, 6, 10, 6, 3, 5, 8, 9, 10, 5, 6, 7, 8, 6, 7, 8, 9, 3, 5, 6, 7, 3, 8, 10, 1, 2, 1, 4, 5, 9, 1, 4, 1, 2, 4, 5, 6, 9, 3, 5, 9, 2, 4, 8, 7, 9, 2, 8, 9, 3, 6, 8, 9, 4, 7, 3, 5, 3, 8, 10, 1, 3, 5, 6, 7, 8, 9, 10, 9, 2, 5, 9, 2, 4, 5, 4, 3, 4, 5, 7, 9, 1, 8, 4, 8, 4, 9, 2, 1, 3, 8, 9, 10, 1, 5, 6, 7, 8, 2, 7, 10, 3, 4, 3, 9, 3, 9], \"Freq\": [0.3448183536529541, 0.0689636692404747, 0.5746972560882568, 0.8860136866569519, 0.660385251045227, 0.3301926255226135, 0.961014449596405, 0.7973304390907288, 0.13288840651512146, 0.933593213558197, 0.20140591263771057, 0.7552722096443176, 0.06825677305459976, 0.1706419289112091, 0.5801825523376465, 0.13651354610919952, 0.18783901631832123, 0.7513560652732849, 0.893589973449707, 0.9243831038475037, 0.9785113334655762, 0.9816151857376099, 0.9795761108398438, 0.8697353005409241, 0.9387338757514954, 0.9104984402656555, 0.9579169154167175, 0.05410299077630043, 0.4869269132614136, 0.3787209391593933, 0.1760939210653305, 0.26414087414741516, 0.44023481011390686, 0.3298327326774597, 0.14135688543319702, 0.1884758323431015, 0.28271377086639404, 0.047118958085775375, 0.9351902008056641, 0.16284333169460297, 0.732795000076294, 0.9289133548736572, 0.9688929319381714, 0.275056928396225, 0.7334851026535034, 0.9762460589408875, 0.8799129128456116, 0.2902850806713104, 0.6773318648338318, 0.8696922063827515, 0.7890082001686096, 0.08766757696866989, 0.9688884615898132, 0.9523270726203918, 0.9856141805648804, 0.08571811020374298, 0.7714629769325256, 0.08571811020374298, 0.08596736192703247, 0.7737062573432922, 0.9752548933029175, 0.3877566158771515, 0.5816349387168884, 0.08978921175003052, 0.08978921175003052, 0.17957842350006104, 0.04489460587501526, 0.583629846572876, 0.48458239436149597, 0.38766589760780334, 0.9510812163352966, 0.8799144625663757, 0.94854736328125, 0.9219959378242493, 0.9517593383789062, 0.2702896296977997, 0.6950305104255676, 0.9721295833587646, 0.708801805973053, 0.26580068469047546, 0.17001597583293915, 0.7650718688964844, 0.3361841142177582, 0.2689473032951355, 0.20171046257019043, 0.1680920571088791, 0.9247021079063416, 0.9079563617706299, 0.7441860437393188, 0.21705426275730133, 0.49813514947891235, 0.4566238820552826, 0.951079249382019, 0.1432075947523117, 0.7876418232917786, 0.9469391107559204, 0.025592949241399765, 0.9733853340148926, 0.09237512946128845, 0.09237512946128845, 0.15395855903625488, 0.15395855903625488, 0.46187567710876465, 0.1048835963010788, 0.24472838640213013, 0.3496119976043701, 0.27968958020210266, 0.25574442744255066, 0.25574442744255066, 0.32549288868904114, 0.13949695229530334, 0.06933659315109253, 0.5893610119819641, 0.034668296575546265, 0.2773463726043701, 0.08169685304164886, 0.5310295224189758, 0.3676358461380005, 0.43235641717910767, 0.5109666585922241, 0.20196373760700226, 0.538569986820221, 0.03366062417626381, 0.20196373760700226, 0.8142884969711304, 0.08142884820699692, 0.28485554456710815, 0.01139422133564949, 0.30764397978782654, 0.20509597659111023, 0.02278844267129898, 0.15951909124851227, 0.6165511608123779, 0.20551706850528717, 0.16441364586353302, 0.10588857531547546, 0.5294428467750549, 0.3176657259464264, 0.21329209208488464, 0.7465223073959351, 0.9309331178665161, 0.569701075553894, 0.3798007071018219, 0.12946830689907074, 0.7120756506919861, 0.06473415344953537, 0.06473415344953537, 0.32615792751312256, 0.6523158550262451, 0.7082890272140503, 0.17707225680351257, 0.07519204169511795, 0.7519204020500183, 0.1503840833902359, 0.8935909867286682, 0.20454780757427216, 0.1448880285024643, 0.1448880285024643, 0.2982988953590393, 0.16193367540836334, 0.008522825315594673, 0.03409130126237869, 0.9257799983024597, 0.9459235668182373, 0.5942603945732117, 0.356556236743927, 0.9507512450218201, 0.7687288522720337, 0.15374577045440674, 0.8818266987800598, 0.4737263023853302, 0.018220242112874985, 0.218642920255661, 0.14576193690299988, 0.1275417059659958, 0.6766451597213745, 0.2460527867078781, 0.52534019947052, 0.45029160380363464, 0.8530641794204712, 0.056870944797992706, 0.9547232389450073, 0.05217912420630455, 0.15653736889362335, 0.6522390246391296, 0.1043582484126091, 0.026089562103152275, 0.9581225514411926, 0.1464024931192398, 0.4392074644565582, 0.09760165959596634, 0.3416058123111725, 0.8218623399734497, 0.13379153609275818, 0.019113076850771904, 0.7107438445091248, 0.1776859611272812, 0.7393043041229248, 0.16428984701633453, 0.5848835706710815, 0.3899223506450653], \"Term\": [\"adaptation\", \"adaptation\", \"adaptation\", \"animal\", \"architecture\", \"architecture\", \"arctic\", \"area\", \"area\", \"art\", \"atmosphere\", \"atmosphere\", \"atmospheric_phenomenon\", \"atmospheric_phenomenon\", \"atmospheric_phenomenon\", \"atmospheric_phenomenon\", \"beak\", \"beak\", \"beauty\", \"biology\", \"bird\", \"black\", \"blue\", \"branch\", \"canidae\", \"cap\", \"carnivore\", \"child\", \"child\", \"child\", \"city\", \"city\", \"city\", \"cloud\", \"cloud\", \"cloud\", \"cloud\", \"cloud\", \"crowd\", \"darkness\", \"darkness\", \"design\", \"dog\", \"ecoregion\", \"ecoregion\", \"event\", \"face\", \"family\", \"family\", \"felidae\", \"field\", \"field\", \"fish\", \"forest\", \"fun\", \"geological_phenomenon\", \"geological_phenomenon\", \"geological_phenomenon\", \"geology\", \"geology\", \"grass\", \"grassland\", \"grassland\", \"green\", \"green\", \"green\", \"green\", \"green\", \"group\", \"group\", \"hair\", \"head\", \"hill\", \"horizon\", \"horse\", \"human\", \"human\", \"ice\", \"lady\", \"lady\", \"landform\", \"landform\", \"landscape\", \"landscape\", \"landscape\", \"landscape\", \"leisure\", \"light\", \"mammal\", \"mammal\", \"marine\", \"marine\", \"monochrome\", \"morning\", \"morning\", \"mountain\", \"mountain\", \"mountainous_landforms\", \"natural_environment\", \"natural_environment\", \"natural_environment\", \"natural_environment\", \"natural_environment\", \"natural_landscape\", \"natural_landscape\", \"natural_landscape\", \"natural_landscape\", \"nature\", \"nature\", \"nature\", \"nature\", \"night\", \"night\", \"night\", \"night\", \"ocean\", \"ocean\", \"ocean\", \"organism\", \"organism\", \"people\", \"people\", \"people\", \"people\", \"photograph\", \"photograph\", \"photography\", \"photography\", \"photography\", \"photography\", \"photography\", \"photography\", \"plant\", \"plant\", \"plant\", \"recreation\", \"recreation\", \"recreation\", \"reflection\", \"reflection\", \"reptile\", \"reserve\", \"reserve\", \"rock\", \"rock\", \"rock\", \"rock\", \"room\", \"room\", \"sand\", \"sand\", \"sea\", \"sea\", \"sea\", \"skin\", \"sky\", \"sky\", \"sky\", \"sky\", \"sky\", \"sky\", \"sky\", \"smile\", \"snout\", \"temple\", \"temple\", \"terrestrial_animal\", \"tourism\", \"tourism\", \"tradition\", \"tree\", \"tree\", \"tree\", \"tree\", \"tree\", \"underwater\", \"underwater\", \"vacation\", \"vacation\", \"vehicle\", \"vehicle\", \"vertebrate\", \"water\", \"water\", \"water\", \"water\", \"water\", \"white\", \"wilderness\", \"wilderness\", \"wilderness\", \"wilderness\", \"wildlife\", \"wildlife\", \"wildlife\", \"winter\", \"winter\", \"woody\", \"woody\", \"yellow\", \"yellow\"]}, \"R\": 30, \"lambda.step\": 0.01, \"plot.opts\": {\"xlab\": \"PC1\", \"ylab\": \"PC2\"}, \"topic.order\": [4, 1, 8, 5, 9, 2, 7, 3, 6, 10]};\n",
       "\n",
       "function LDAvis_load_lib(url, callback){\n",
       "  var s = document.createElement('script');\n",
       "  s.src = url;\n",
       "  s.async = true;\n",
       "  s.onreadystatechange = s.onload = callback;\n",
       "  s.onerror = function(){console.warn(\"failed to load library \" + url);};\n",
       "  document.getElementsByTagName(\"head\")[0].appendChild(s);\n",
       "}\n",
       "\n",
       "if(typeof(LDAvis) !== \"undefined\"){\n",
       "   // already loaded: just create the visualization\n",
       "   !function(LDAvis){\n",
       "       new LDAvis(\"#\" + \"ldavis_el1038421053128890162538963804\", ldavis_el1038421053128890162538963804_data);\n",
       "   }(LDAvis);\n",
       "}else if(typeof define === \"function\" && define.amd){\n",
       "   // require.js is available: use it to load d3/LDAvis\n",
       "   require.config({paths: {d3: \"https://cdnjs.cloudflare.com/ajax/libs/d3/3.5.5/d3.min\"}});\n",
       "   require([\"d3\"], function(d3){\n",
       "      window.d3 = d3;\n",
       "      LDAvis_load_lib(\"https://cdn.rawgit.com/bmabey/pyLDAvis/files/ldavis.v1.0.0.js\", function(){\n",
       "        new LDAvis(\"#\" + \"ldavis_el1038421053128890162538963804\", ldavis_el1038421053128890162538963804_data);\n",
       "      });\n",
       "    });\n",
       "}else{\n",
       "    // require.js not available: dynamically load d3 & LDAvis\n",
       "    LDAvis_load_lib(\"https://cdnjs.cloudflare.com/ajax/libs/d3/3.5.5/d3.min.js\", function(){\n",
       "         LDAvis_load_lib(\"https://cdn.rawgit.com/bmabey/pyLDAvis/files/ldavis.v1.0.0.js\", function(){\n",
       "                 new LDAvis(\"#\" + \"ldavis_el1038421053128890162538963804\", ldavis_el1038421053128890162538963804_data);\n",
       "            })\n",
       "         });\n",
       "}\n",
       "</script>"
      ],
      "text/plain": [
       "<IPython.core.display.HTML object>"
      ]
     },
     "execution_count": 23,
     "metadata": {},
     "output_type": "execute_result"
    }
   ],
   "source": [
    "vis = pyLDAvis.gensim.prepare(topic_model=lda_train, corpus=train_corpus, dictionary=train_id2word)\n",
    "pyLDAvis.enable_notebook()\n",
    "pyLDAvis.display(vis)"
   ]
  },
  {
   "cell_type": "markdown",
   "metadata": {},
   "source": [
    "Each bubble on the left-hand side plot represents a topic. The larger the bubble, the more prevalent is that topic.\n",
    "A good topic model will have fairly big, non-overlapping bubbles scattered throughout the chart instead of being clustered in one quadrant.\n",
    "A model with too many topics, will typically have many overlaps, small sized bubbles clustered in one region of the chart.\n",
    "\n",
    "Note: The Topic IDs in the InterTopic Distance Map do not correspond to the LDA topic IDs in Cell 282."
   ]
  },
  {
   "cell_type": "code",
   "execution_count": 24,
   "metadata": {},
   "outputs": [],
   "source": [
    "df_lda = pd.DataFrame(lda_train.show_topics(), columns=['Topic','Word Weights'])"
   ]
  },
  {
   "cell_type": "code",
   "execution_count": 25,
   "metadata": {},
   "outputs": [
    {
     "data": {
      "text/html": [
       "<div>\n",
       "<style scoped>\n",
       "    .dataframe tbody tr th:only-of-type {\n",
       "        vertical-align: middle;\n",
       "    }\n",
       "\n",
       "    .dataframe tbody tr th {\n",
       "        vertical-align: top;\n",
       "    }\n",
       "\n",
       "    .dataframe thead th {\n",
       "        text-align: right;\n",
       "    }\n",
       "</style>\n",
       "<table border=\"1\" class=\"dataframe\">\n",
       "  <thead>\n",
       "    <tr style=\"text-align: right;\">\n",
       "      <th></th>\n",
       "      <th>Topic</th>\n",
       "      <th>Word Weights</th>\n",
       "    </tr>\n",
       "  </thead>\n",
       "  <tbody>\n",
       "    <tr>\n",
       "      <th>0</th>\n",
       "      <td>0</td>\n",
       "      <td>0.166*\"wildlife\" + 0.102*\"vertebrate\" + 0.098*...</td>\n",
       "    </tr>\n",
       "    <tr>\n",
       "      <th>1</th>\n",
       "      <td>1</td>\n",
       "      <td>0.169*\"mountain\" + 0.099*\"rock\" + 0.089*\"bird\"...</td>\n",
       "    </tr>\n",
       "    <tr>\n",
       "      <th>2</th>\n",
       "      <td>2</td>\n",
       "      <td>0.241*\"water\" + 0.142*\"sea\" + 0.093*\"sky\" + 0....</td>\n",
       "    </tr>\n",
       "    <tr>\n",
       "      <th>3</th>\n",
       "      <td>3</td>\n",
       "      <td>0.097*\"white\" + 0.084*\"black\" + 0.082*\"photogr...</td>\n",
       "    </tr>\n",
       "    <tr>\n",
       "      <th>4</th>\n",
       "      <td>4</td>\n",
       "      <td>0.136*\"fun\" + 0.123*\"event\" + 0.120*\"photograp...</td>\n",
       "    </tr>\n",
       "  </tbody>\n",
       "</table>\n",
       "</div>"
      ],
      "text/plain": [
       "   Topic                                       Word Weights\n",
       "0      0  0.166*\"wildlife\" + 0.102*\"vertebrate\" + 0.098*...\n",
       "1      1  0.169*\"mountain\" + 0.099*\"rock\" + 0.089*\"bird\"...\n",
       "2      2  0.241*\"water\" + 0.142*\"sea\" + 0.093*\"sky\" + 0....\n",
       "3      3  0.097*\"white\" + 0.084*\"black\" + 0.082*\"photogr...\n",
       "4      4  0.136*\"fun\" + 0.123*\"event\" + 0.120*\"photograp..."
      ]
     },
     "execution_count": 25,
     "metadata": {},
     "output_type": "execute_result"
    }
   ],
   "source": [
    "df_lda.head()"
   ]
  },
  {
   "cell_type": "code",
   "execution_count": 51,
   "metadata": {},
   "outputs": [],
   "source": [
    "df_lda.to_csv('Word_Weights.csv')"
   ]
  },
  {
   "cell_type": "code",
   "execution_count": 26,
   "metadata": {},
   "outputs": [],
   "source": [
    "train_vecs = []\n",
    "for i in range(len(df.label_tokens)):\n",
    "    top_topics = lda_train.get_document_topics(train_corpus[i], minimum_probability=0.0)\n",
    "    topic_vec = [top_topics[i][1] for i in range(10)]\n",
    "    train_vecs.append(topic_vec)"
   ]
  },
  {
   "cell_type": "code",
   "execution_count": 27,
   "metadata": {},
   "outputs": [
    {
     "name": "stdout",
     "output_type": "stream",
     "text": [
      "[0.020000232, 0.020001955, 0.020013986, 0.020007018, 0.02000937, 0.020007258, 0.020003136, 0.5603734, 0.27958223, 0.020001343]\n",
      "408\n"
     ]
    }
   ],
   "source": [
    "print(train_vecs[10])\n",
    "print(len(train_vecs))"
   ]
  },
  {
   "cell_type": "code",
   "execution_count": 28,
   "metadata": {},
   "outputs": [
    {
     "data": {
      "text/plain": [
       "topic0    0.207462\n",
       "topic1    0.012502\n",
       "topic2    0.012502\n",
       "topic3    0.012500\n",
       "topic4    0.012500\n",
       "topic5    0.012501\n",
       "topic6    0.692528\n",
       "topic7    0.012503\n",
       "topic8    0.012502\n",
       "topic9    0.012500\n",
       "Name: 31, dtype: float64"
      ]
     },
     "execution_count": 28,
     "metadata": {},
     "output_type": "execute_result"
    }
   ],
   "source": [
    "train_vec_df=pd.DataFrame(train_vecs)\n",
    "train_vec_df.columns=['topic0','topic1','topic2','topic3','topic4','topic5','topic6','topic7','topic8','topic9']\n",
    "train_vec_df.iloc[31]"
   ]
  },
  {
   "cell_type": "code",
   "execution_count": 30,
   "metadata": {},
   "outputs": [
    {
     "data": {
      "text/html": [
       "<div>\n",
       "<style scoped>\n",
       "    .dataframe tbody tr th:only-of-type {\n",
       "        vertical-align: middle;\n",
       "    }\n",
       "\n",
       "    .dataframe tbody tr th {\n",
       "        vertical-align: top;\n",
       "    }\n",
       "\n",
       "    .dataframe thead th {\n",
       "        text-align: right;\n",
       "    }\n",
       "</style>\n",
       "<table border=\"1\" class=\"dataframe\">\n",
       "  <thead>\n",
       "    <tr style=\"text-align: right;\">\n",
       "      <th></th>\n",
       "      <th>Index</th>\n",
       "      <th>display_url</th>\n",
       "      <th>comments</th>\n",
       "      <th>is_video</th>\n",
       "      <th>likes</th>\n",
       "      <th>caption</th>\n",
       "      <th>labels</th>\n",
       "      <th>labels_strings</th>\n",
       "      <th>likes_normalized</th>\n",
       "      <th>comments_normalized</th>\n",
       "      <th>...</th>\n",
       "      <th>topic0</th>\n",
       "      <th>topic1</th>\n",
       "      <th>topic2</th>\n",
       "      <th>topic3</th>\n",
       "      <th>topic4</th>\n",
       "      <th>topic5</th>\n",
       "      <th>topic6</th>\n",
       "      <th>topic7</th>\n",
       "      <th>topic8</th>\n",
       "      <th>topic9</th>\n",
       "    </tr>\n",
       "  </thead>\n",
       "  <tbody>\n",
       "    <tr>\n",
       "      <th>0</th>\n",
       "      <td>0</td>\n",
       "      <td>https://instagram.fftw1-1.fna.fbcdn.net/v/t51....</td>\n",
       "      <td>145</td>\n",
       "      <td>False</td>\n",
       "      <td>31505</td>\n",
       "      <td>Photo by Amber Bracken @photobracken | Jocelyn...</td>\n",
       "      <td>['hair', 'beauty', 'hairstyle', 'skin', 'long'...</td>\n",
       "      <td>hair beauty hairstyle skin long hair lip hand ...</td>\n",
       "      <td>0.019494</td>\n",
       "      <td>0.011139</td>\n",
       "      <td>...</td>\n",
       "      <td>0.020000</td>\n",
       "      <td>0.020000</td>\n",
       "      <td>0.020000</td>\n",
       "      <td>0.820000</td>\n",
       "      <td>0.020000</td>\n",
       "      <td>0.020000</td>\n",
       "      <td>0.020000</td>\n",
       "      <td>0.020000</td>\n",
       "      <td>0.020000</td>\n",
       "      <td>0.020000</td>\n",
       "    </tr>\n",
       "    <tr>\n",
       "      <th>1</th>\n",
       "      <td>2</td>\n",
       "      <td>https://instagram.fftw1-1.fna.fbcdn.net/v/t51....</td>\n",
       "      <td>1018</td>\n",
       "      <td>False</td>\n",
       "      <td>330690</td>\n",
       "      <td>Photo by Charlie Hamilton James @chamiltonjame...</td>\n",
       "      <td>['sky', 'wildlife', 'natural', 'environment', ...</td>\n",
       "      <td>sky wildlife natural environment ecoregion mar...</td>\n",
       "      <td>0.204620</td>\n",
       "      <td>0.078205</td>\n",
       "      <td>...</td>\n",
       "      <td>0.014291</td>\n",
       "      <td>0.014287</td>\n",
       "      <td>0.014287</td>\n",
       "      <td>0.014286</td>\n",
       "      <td>0.014286</td>\n",
       "      <td>0.014287</td>\n",
       "      <td>0.719837</td>\n",
       "      <td>0.014288</td>\n",
       "      <td>0.014288</td>\n",
       "      <td>0.165863</td>\n",
       "    </tr>\n",
       "  </tbody>\n",
       "</table>\n",
       "<p>2 rows × 23 columns</p>\n",
       "</div>"
      ],
      "text/plain": [
       "   Index                                        display_url  comments  \\\n",
       "0      0  https://instagram.fftw1-1.fna.fbcdn.net/v/t51....       145   \n",
       "1      2  https://instagram.fftw1-1.fna.fbcdn.net/v/t51....      1018   \n",
       "\n",
       "   is_video   likes                                            caption  \\\n",
       "0     False   31505  Photo by Amber Bracken @photobracken | Jocelyn...   \n",
       "1     False  330690  Photo by Charlie Hamilton James @chamiltonjame...   \n",
       "\n",
       "                                              labels  \\\n",
       "0  ['hair', 'beauty', 'hairstyle', 'skin', 'long'...   \n",
       "1  ['sky', 'wildlife', 'natural', 'environment', ...   \n",
       "\n",
       "                                      labels_strings  likes_normalized  \\\n",
       "0  hair beauty hairstyle skin long hair lip hand ...          0.019494   \n",
       "1  sky wildlife natural environment ecoregion mar...          0.204620   \n",
       "\n",
       "   comments_normalized  ...    topic0    topic1    topic2    topic3    topic4  \\\n",
       "0             0.011139  ...  0.020000  0.020000  0.020000  0.820000  0.020000   \n",
       "1             0.078205  ...  0.014291  0.014287  0.014287  0.014286  0.014286   \n",
       "\n",
       "     topic5    topic6    topic7    topic8    topic9  \n",
       "0  0.020000  0.020000  0.020000  0.020000  0.020000  \n",
       "1  0.014287  0.719837  0.014288  0.014288  0.165863  \n",
       "\n",
       "[2 rows x 23 columns]"
      ]
     },
     "execution_count": 30,
     "metadata": {},
     "output_type": "execute_result"
    }
   ],
   "source": [
    "df_nat_final=pd.concat([df.reset_index(drop=True), train_vec_df.reset_index(drop=True)], axis=1)\n",
    "df_nat_final[:2]"
   ]
  },
  {
   "cell_type": "code",
   "execution_count": 56,
   "metadata": {},
   "outputs": [],
   "source": [
    "df_nat_final.to_csv(\"Topic_Weights.csv\")"
   ]
  },
  {
   "cell_type": "code",
   "execution_count": 57,
   "metadata": {},
   "outputs": [
    {
     "name": "stdout",
     "output_type": "stream",
     "text": [
      "0.08030411923207784 0.11903844877968242 0.1809772493842345\n"
     ]
    }
   ],
   "source": [
    "q1=np.percentile(df_nat_final.engagement_score, 25) \n",
    "q2=np.percentile(df_nat_final.engagement_score, 50)  \n",
    "q3=np.percentile(df_nat_final.engagement_score, 75)\n",
    "\n",
    "print (q1,q2,q3)"
   ]
  },
  {
   "cell_type": "code",
   "execution_count": 58,
   "metadata": {},
   "outputs": [
    {
     "data": {
      "text/html": [
       "<div>\n",
       "<style scoped>\n",
       "    .dataframe tbody tr th:only-of-type {\n",
       "        vertical-align: middle;\n",
       "    }\n",
       "\n",
       "    .dataframe tbody tr th {\n",
       "        vertical-align: top;\n",
       "    }\n",
       "\n",
       "    .dataframe thead th {\n",
       "        text-align: right;\n",
       "    }\n",
       "</style>\n",
       "<table border=\"1\" class=\"dataframe\">\n",
       "  <thead>\n",
       "    <tr style=\"text-align: right;\">\n",
       "      <th></th>\n",
       "      <th>Index</th>\n",
       "      <th>display_url</th>\n",
       "      <th>comments</th>\n",
       "      <th>is_video</th>\n",
       "      <th>likes</th>\n",
       "      <th>caption</th>\n",
       "      <th>labels</th>\n",
       "      <th>labels_strings</th>\n",
       "      <th>likes_normalized</th>\n",
       "      <th>comments_normalized</th>\n",
       "      <th>...</th>\n",
       "      <th>topic0</th>\n",
       "      <th>topic1</th>\n",
       "      <th>topic2</th>\n",
       "      <th>topic3</th>\n",
       "      <th>topic4</th>\n",
       "      <th>topic5</th>\n",
       "      <th>topic6</th>\n",
       "      <th>topic7</th>\n",
       "      <th>topic8</th>\n",
       "      <th>topic9</th>\n",
       "    </tr>\n",
       "  </thead>\n",
       "  <tbody>\n",
       "    <tr>\n",
       "      <th>6</th>\n",
       "      <td>7</td>\n",
       "      <td>https://instagram.fftw1-1.fna.fbcdn.net/v/t51....</td>\n",
       "      <td>1116</td>\n",
       "      <td>False</td>\n",
       "      <td>526240</td>\n",
       "      <td>Photos by Pete McBride @pedromcbride | Source ...</td>\n",
       "      <td>['geological', 'phenomenon', 'geology', 'rock']</td>\n",
       "      <td>geological phenomenon geology rock</td>\n",
       "      <td>0.325620</td>\n",
       "      <td>0.085734</td>\n",
       "      <td>...</td>\n",
       "      <td>0.025010</td>\n",
       "      <td>0.025000</td>\n",
       "      <td>0.025000</td>\n",
       "      <td>0.025000</td>\n",
       "      <td>0.025000</td>\n",
       "      <td>0.774987</td>\n",
       "      <td>0.025000</td>\n",
       "      <td>0.025001</td>\n",
       "      <td>0.025000</td>\n",
       "      <td>0.025001</td>\n",
       "    </tr>\n",
       "    <tr>\n",
       "      <th>13</th>\n",
       "      <td>15</td>\n",
       "      <td>https://instagram.fftw1-1.fna.fbcdn.net/v/t51....</td>\n",
       "      <td>3023</td>\n",
       "      <td>False</td>\n",
       "      <td>771071</td>\n",
       "      <td>Photo by Keith Ladzinski @ladzinski | In searc...</td>\n",
       "      <td>['sky', 'wildlife', 'organism', 'cloud', 'phot...</td>\n",
       "      <td>sky wildlife organism cloud photography wood l...</td>\n",
       "      <td>0.477113</td>\n",
       "      <td>0.232235</td>\n",
       "      <td>...</td>\n",
       "      <td>0.011112</td>\n",
       "      <td>0.220915</td>\n",
       "      <td>0.211059</td>\n",
       "      <td>0.011119</td>\n",
       "      <td>0.166521</td>\n",
       "      <td>0.334826</td>\n",
       "      <td>0.011111</td>\n",
       "      <td>0.011115</td>\n",
       "      <td>0.011111</td>\n",
       "      <td>0.011111</td>\n",
       "    </tr>\n",
       "    <tr>\n",
       "      <th>19</th>\n",
       "      <td>22</td>\n",
       "      <td>https://instagram.fftw1-1.fna.fbcdn.net/v/t51....</td>\n",
       "      <td>1368</td>\n",
       "      <td>False</td>\n",
       "      <td>587036</td>\n",
       "      <td>Photo by @ronan_donovan | A mother wolf return...</td>\n",
       "      <td>['canidae', 'wildlife', 'irish', 'wolfhound', ...</td>\n",
       "      <td>canidae wildlife irish wolfhound sheep carnivo...</td>\n",
       "      <td>0.363238</td>\n",
       "      <td>0.105093</td>\n",
       "      <td>...</td>\n",
       "      <td>0.020000</td>\n",
       "      <td>0.615875</td>\n",
       "      <td>0.020000</td>\n",
       "      <td>0.020000</td>\n",
       "      <td>0.020000</td>\n",
       "      <td>0.224124</td>\n",
       "      <td>0.020000</td>\n",
       "      <td>0.020000</td>\n",
       "      <td>0.020000</td>\n",
       "      <td>0.020000</td>\n",
       "    </tr>\n",
       "  </tbody>\n",
       "</table>\n",
       "<p>3 rows × 24 columns</p>\n",
       "</div>"
      ],
      "text/plain": [
       "    Index                                        display_url  comments  \\\n",
       "6       7  https://instagram.fftw1-1.fna.fbcdn.net/v/t51....      1116   \n",
       "13     15  https://instagram.fftw1-1.fna.fbcdn.net/v/t51....      3023   \n",
       "19     22  https://instagram.fftw1-1.fna.fbcdn.net/v/t51....      1368   \n",
       "\n",
       "    is_video   likes                                            caption  \\\n",
       "6      False  526240  Photos by Pete McBride @pedromcbride | Source ...   \n",
       "13     False  771071  Photo by Keith Ladzinski @ladzinski | In searc...   \n",
       "19     False  587036  Photo by @ronan_donovan | A mother wolf return...   \n",
       "\n",
       "                                               labels  \\\n",
       "6     ['geological', 'phenomenon', 'geology', 'rock']   \n",
       "13  ['sky', 'wildlife', 'organism', 'cloud', 'phot...   \n",
       "19  ['canidae', 'wildlife', 'irish', 'wolfhound', ...   \n",
       "\n",
       "                                       labels_strings  likes_normalized  \\\n",
       "6                  geological phenomenon geology rock          0.325620   \n",
       "13  sky wildlife organism cloud photography wood l...          0.477113   \n",
       "19  canidae wildlife irish wolfhound sheep carnivo...          0.363238   \n",
       "\n",
       "    comments_normalized  ...    topic0    topic1    topic2    topic3  \\\n",
       "6              0.085734  ...  0.025010  0.025000  0.025000  0.025000   \n",
       "13             0.232235  ...  0.011112  0.220915  0.211059  0.011119   \n",
       "19             0.105093  ...  0.020000  0.615875  0.020000  0.020000   \n",
       "\n",
       "      topic4    topic5    topic6    topic7    topic8    topic9  \n",
       "6   0.025000  0.774987  0.025000  0.025001  0.025000  0.025001  \n",
       "13  0.166521  0.334826  0.011111  0.011115  0.011111  0.011111  \n",
       "19  0.020000  0.224124  0.020000  0.020000  0.020000  0.020000  \n",
       "\n",
       "[3 rows x 24 columns]"
      ]
     },
     "execution_count": 58,
     "metadata": {},
     "output_type": "execute_result"
    }
   ],
   "source": [
    "top_quartile=df_nat_final[df_nat_final['engagement_score']>q3]\n",
    "top_quartile[:3]"
   ]
  },
  {
   "cell_type": "code",
   "execution_count": 59,
   "metadata": {},
   "outputs": [],
   "source": [
    "average_topic_weights_top = top_quartile[[\"topic0\",'topic1',\"topic2\",'topic3',\"topic4\",'topic5',\"topic6\",'topic8','topic9']].mean(axis=0)"
   ]
  },
  {
   "cell_type": "code",
   "execution_count": 60,
   "metadata": {},
   "outputs": [
    {
     "data": {
      "text/plain": [
       "topic0    0.077801\n",
       "topic1    0.244422\n",
       "topic2    0.071732\n",
       "topic3    0.085208\n",
       "topic4    0.050937\n",
       "topic5    0.212632\n",
       "topic6    0.066021\n",
       "topic8    0.042280\n",
       "topic9    0.076834\n",
       "dtype: float64"
      ]
     },
     "execution_count": 60,
     "metadata": {},
     "output_type": "execute_result"
    }
   ],
   "source": [
    "average_topic_weights_top"
   ]
  },
  {
   "cell_type": "code",
   "execution_count": 61,
   "metadata": {},
   "outputs": [
    {
     "data": {
      "text/html": [
       "<div>\n",
       "<style scoped>\n",
       "    .dataframe tbody tr th:only-of-type {\n",
       "        vertical-align: middle;\n",
       "    }\n",
       "\n",
       "    .dataframe tbody tr th {\n",
       "        vertical-align: top;\n",
       "    }\n",
       "\n",
       "    .dataframe thead th {\n",
       "        text-align: right;\n",
       "    }\n",
       "</style>\n",
       "<table border=\"1\" class=\"dataframe\">\n",
       "  <thead>\n",
       "    <tr style=\"text-align: right;\">\n",
       "      <th></th>\n",
       "      <th>Index</th>\n",
       "      <th>display_url</th>\n",
       "      <th>comments</th>\n",
       "      <th>is_video</th>\n",
       "      <th>likes</th>\n",
       "      <th>caption</th>\n",
       "      <th>labels</th>\n",
       "      <th>labels_strings</th>\n",
       "      <th>likes_normalized</th>\n",
       "      <th>comments_normalized</th>\n",
       "      <th>...</th>\n",
       "      <th>topic0</th>\n",
       "      <th>topic1</th>\n",
       "      <th>topic2</th>\n",
       "      <th>topic3</th>\n",
       "      <th>topic4</th>\n",
       "      <th>topic5</th>\n",
       "      <th>topic6</th>\n",
       "      <th>topic7</th>\n",
       "      <th>topic8</th>\n",
       "      <th>topic9</th>\n",
       "    </tr>\n",
       "  </thead>\n",
       "  <tbody>\n",
       "    <tr>\n",
       "      <th>0</th>\n",
       "      <td>0</td>\n",
       "      <td>https://instagram.fftw1-1.fna.fbcdn.net/v/t51....</td>\n",
       "      <td>145</td>\n",
       "      <td>False</td>\n",
       "      <td>31505</td>\n",
       "      <td>Photo by Amber Bracken @photobracken | Jocelyn...</td>\n",
       "      <td>['hair', 'beauty', 'hairstyle', 'skin', 'long'...</td>\n",
       "      <td>hair beauty hairstyle skin long hair lip hand ...</td>\n",
       "      <td>0.019494</td>\n",
       "      <td>0.011139</td>\n",
       "      <td>...</td>\n",
       "      <td>0.020000</td>\n",
       "      <td>0.020000</td>\n",
       "      <td>0.020000</td>\n",
       "      <td>0.020000</td>\n",
       "      <td>0.020000</td>\n",
       "      <td>0.020000</td>\n",
       "      <td>0.020000</td>\n",
       "      <td>0.020000</td>\n",
       "      <td>0.820000</td>\n",
       "      <td>0.020000</td>\n",
       "    </tr>\n",
       "    <tr>\n",
       "      <th>4</th>\n",
       "      <td>5</td>\n",
       "      <td>https://instagram.fftw1-1.fna.fbcdn.net/v/t51....</td>\n",
       "      <td>540</td>\n",
       "      <td>False</td>\n",
       "      <td>161964</td>\n",
       "      <td>Photo by @amivitale | Jenabu, 13, waits for he...</td>\n",
       "      <td>['face', 'black', 'people', 'skin', 'child', '...</td>\n",
       "      <td>face black people skin child head lip eyebrow ...</td>\n",
       "      <td>0.100218</td>\n",
       "      <td>0.041484</td>\n",
       "      <td>...</td>\n",
       "      <td>0.012500</td>\n",
       "      <td>0.012500</td>\n",
       "      <td>0.012503</td>\n",
       "      <td>0.012500</td>\n",
       "      <td>0.012500</td>\n",
       "      <td>0.012500</td>\n",
       "      <td>0.012502</td>\n",
       "      <td>0.012500</td>\n",
       "      <td>0.887494</td>\n",
       "      <td>0.012500</td>\n",
       "    </tr>\n",
       "    <tr>\n",
       "      <th>7</th>\n",
       "      <td>8</td>\n",
       "      <td>https://instagram.fftw1-1.fna.fbcdn.net/v/t51....</td>\n",
       "      <td>423</td>\n",
       "      <td>False</td>\n",
       "      <td>215519</td>\n",
       "      <td>Photo by William Albert Allard @williamalberta...</td>\n",
       "      <td>['action', 'adventure', 'game', 'horse', 'cowb...</td>\n",
       "      <td>action adventure game horse cowboy screenshot ...</td>\n",
       "      <td>0.133356</td>\n",
       "      <td>0.032496</td>\n",
       "      <td>...</td>\n",
       "      <td>0.033333</td>\n",
       "      <td>0.033333</td>\n",
       "      <td>0.033333</td>\n",
       "      <td>0.033333</td>\n",
       "      <td>0.699999</td>\n",
       "      <td>0.033333</td>\n",
       "      <td>0.033333</td>\n",
       "      <td>0.033333</td>\n",
       "      <td>0.033333</td>\n",
       "      <td>0.033333</td>\n",
       "    </tr>\n",
       "  </tbody>\n",
       "</table>\n",
       "<p>3 rows × 24 columns</p>\n",
       "</div>"
      ],
      "text/plain": [
       "   Index                                        display_url  comments  \\\n",
       "0      0  https://instagram.fftw1-1.fna.fbcdn.net/v/t51....       145   \n",
       "4      5  https://instagram.fftw1-1.fna.fbcdn.net/v/t51....       540   \n",
       "7      8  https://instagram.fftw1-1.fna.fbcdn.net/v/t51....       423   \n",
       "\n",
       "   is_video   likes                                            caption  \\\n",
       "0     False   31505  Photo by Amber Bracken @photobracken | Jocelyn...   \n",
       "4     False  161964  Photo by @amivitale | Jenabu, 13, waits for he...   \n",
       "7     False  215519  Photo by William Albert Allard @williamalberta...   \n",
       "\n",
       "                                              labels  \\\n",
       "0  ['hair', 'beauty', 'hairstyle', 'skin', 'long'...   \n",
       "4  ['face', 'black', 'people', 'skin', 'child', '...   \n",
       "7  ['action', 'adventure', 'game', 'horse', 'cowb...   \n",
       "\n",
       "                                      labels_strings  likes_normalized  \\\n",
       "0  hair beauty hairstyle skin long hair lip hand ...          0.019494   \n",
       "4  face black people skin child head lip eyebrow ...          0.100218   \n",
       "7  action adventure game horse cowboy screenshot ...          0.133356   \n",
       "\n",
       "   comments_normalized  ...    topic0    topic1    topic2    topic3    topic4  \\\n",
       "0             0.011139  ...  0.020000  0.020000  0.020000  0.020000  0.020000   \n",
       "4             0.041484  ...  0.012500  0.012500  0.012503  0.012500  0.012500   \n",
       "7             0.032496  ...  0.033333  0.033333  0.033333  0.033333  0.699999   \n",
       "\n",
       "     topic5    topic6    topic7    topic8    topic9  \n",
       "0  0.020000  0.020000  0.020000  0.820000  0.020000  \n",
       "4  0.012500  0.012502  0.012500  0.887494  0.012500  \n",
       "7  0.033333  0.033333  0.033333  0.033333  0.033333  \n",
       "\n",
       "[3 rows x 24 columns]"
      ]
     },
     "execution_count": 61,
     "metadata": {},
     "output_type": "execute_result"
    }
   ],
   "source": [
    "bottom_quartile=df_nat_final[df_nat_final['engagement_score']<q1]\n",
    "bottom_quartile[:3]"
   ]
  },
  {
   "cell_type": "code",
   "execution_count": 62,
   "metadata": {},
   "outputs": [],
   "source": [
    "average_topic_weights_bot = bottom_quartile[[\"topic0\",'topic1',\"topic2\",'topic3',\"topic4\",'topic5',\"topic6\",'topic8','topic9']].mean(axis=0)"
   ]
  },
  {
   "cell_type": "code",
   "execution_count": 63,
   "metadata": {},
   "outputs": [
    {
     "data": {
      "text/plain": [
       "topic0    0.092186\n",
       "topic1    0.027479\n",
       "topic2    0.119291\n",
       "topic3    0.047043\n",
       "topic4    0.153241\n",
       "topic5    0.099762\n",
       "topic6    0.183246\n",
       "topic8    0.119375\n",
       "topic9    0.029117\n",
       "dtype: float64"
      ]
     },
     "execution_count": 63,
     "metadata": {},
     "output_type": "execute_result"
    }
   ],
   "source": [
    "average_topic_weights_bot"
   ]
  },
  {
   "cell_type": "code",
   "execution_count": 64,
   "metadata": {},
   "outputs": [],
   "source": [
    "quartile_topics = pd.concat([average_topic_weights_top,average_topic_weights_bot],axis=1)\n",
    "quartile_topics.columns = ['Top Quartile','Bottom Quartile']"
   ]
  },
  {
   "cell_type": "code",
   "execution_count": 65,
   "metadata": {},
   "outputs": [
    {
     "data": {
      "text/html": [
       "<div>\n",
       "<style scoped>\n",
       "    .dataframe tbody tr th:only-of-type {\n",
       "        vertical-align: middle;\n",
       "    }\n",
       "\n",
       "    .dataframe tbody tr th {\n",
       "        vertical-align: top;\n",
       "    }\n",
       "\n",
       "    .dataframe thead th {\n",
       "        text-align: right;\n",
       "    }\n",
       "</style>\n",
       "<table border=\"1\" class=\"dataframe\">\n",
       "  <thead>\n",
       "    <tr style=\"text-align: right;\">\n",
       "      <th></th>\n",
       "      <th>Top Quartile</th>\n",
       "      <th>Bottom Quartile</th>\n",
       "    </tr>\n",
       "  </thead>\n",
       "  <tbody>\n",
       "    <tr>\n",
       "      <th>topic0</th>\n",
       "      <td>0.077801</td>\n",
       "      <td>0.092186</td>\n",
       "    </tr>\n",
       "    <tr>\n",
       "      <th>topic1</th>\n",
       "      <td>0.244422</td>\n",
       "      <td>0.027479</td>\n",
       "    </tr>\n",
       "    <tr>\n",
       "      <th>topic2</th>\n",
       "      <td>0.071732</td>\n",
       "      <td>0.119291</td>\n",
       "    </tr>\n",
       "    <tr>\n",
       "      <th>topic3</th>\n",
       "      <td>0.085208</td>\n",
       "      <td>0.047043</td>\n",
       "    </tr>\n",
       "    <tr>\n",
       "      <th>topic4</th>\n",
       "      <td>0.050937</td>\n",
       "      <td>0.153241</td>\n",
       "    </tr>\n",
       "    <tr>\n",
       "      <th>topic5</th>\n",
       "      <td>0.212632</td>\n",
       "      <td>0.099762</td>\n",
       "    </tr>\n",
       "    <tr>\n",
       "      <th>topic6</th>\n",
       "      <td>0.066021</td>\n",
       "      <td>0.183246</td>\n",
       "    </tr>\n",
       "    <tr>\n",
       "      <th>topic8</th>\n",
       "      <td>0.042280</td>\n",
       "      <td>0.119375</td>\n",
       "    </tr>\n",
       "    <tr>\n",
       "      <th>topic9</th>\n",
       "      <td>0.076834</td>\n",
       "      <td>0.029117</td>\n",
       "    </tr>\n",
       "  </tbody>\n",
       "</table>\n",
       "</div>"
      ],
      "text/plain": [
       "        Top Quartile  Bottom Quartile\n",
       "topic0      0.077801         0.092186\n",
       "topic1      0.244422         0.027479\n",
       "topic2      0.071732         0.119291\n",
       "topic3      0.085208         0.047043\n",
       "topic4      0.050937         0.153241\n",
       "topic5      0.212632         0.099762\n",
       "topic6      0.066021         0.183246\n",
       "topic8      0.042280         0.119375\n",
       "topic9      0.076834         0.029117"
      ]
     },
     "execution_count": 65,
     "metadata": {},
     "output_type": "execute_result"
    }
   ],
   "source": [
    "quartile_topics"
   ]
  },
  {
   "cell_type": "markdown",
   "metadata": {},
   "source": [
    "The images in the top quartile consists mostly of mountain, nature and photography.\n",
    "The images in the botton quartile consists mostly of nature."
   ]
  },
  {
   "cell_type": "markdown",
   "metadata": {},
   "source": [
    "### Task D. \n",
    "What advice would you give National Geographic if it wants to increase engagement on its Instagram page based on your findings in Tasks B and C?"
   ]
  },
  {
   "cell_type": "markdown",
   "metadata": {},
   "source": [
    "Based on LDA, we can see that many of our posts fall under the main category of nature. There are many overlaps within these topics, given that most are related to nature, landscapes and animals. People expect these photos from NatGeo, and these photos are probably the reason they are actively following the account. NatGeo is first and foremost known for their nature based magazines, which have been a household name since 1888. The Instagram account is an extension of this brand image they have created in homes, and thus, it is essential to maintain that on different platforms as well. However, there is also room to engage with a new userbase through Instagram, which is why we recommend slowly starting to add in a mix of new images corresponding to other topics.\n",
    "\n",
    "Looking at just our high engagement posts, we see that three topics stand out with the highest scores. These topics include Photography, Nature, and Mountainous terrain. We can assume that users on Instagram are generally more likely to be interested in taking good photos – they are, after all, browsing the social media platform to see images! So NatGeo can group these together by finding new perspectives in photographing nature and mountains. People are also interested in images of nature probably because it is a respite from their day to day; thus, we can perhaps look to optimize our posts to encourage high engagement by posting at certain times of the workday when people tend to find their days dragging (for example, at 2pm when the post lunch coma hits).\n",
    "\n",
    "Our low engagement posts surprisingly coincide with topics that National Geographic post the most about. They are posting many photos about the natural environment, yet they aren’t receiving the engagement they want on these pictures. This could be because people’s Instagram feeds are oversaturated by these images. Posts with more rugged terrain tend to be less popular, possibly because it appeals to a different type of beauty. We would suggest focusing more on posting images that develop engagement, like those listed under high engagement, and reduce the number of nature posts to a maximum limit per week. Limiting the saturation of these images on people’s feeds might encourage more engagement with the posts of nature in general.\n",
    "\n",
    "One thing that could be useful to monitor is how the trends in engagement topics change based on season. For example, more individuals might engage with travel related images prior to planning a trip, which would cause an increase in certain topic label engagement. They may also want to see more images of people/human elements of emotion during the holidays, and pictures of sunny warm places in the winter. Looking at how engagement changes by season in general could be a great way to drive engagement by posting more targeted images at certain times of the year.\n"
   ]
  }
 ],
 "metadata": {
  "kernelspec": {
   "display_name": "Python 3",
   "language": "python",
   "name": "python3"
  },
  "language_info": {
   "codemirror_mode": {
    "name": "ipython",
    "version": 3
   },
   "file_extension": ".py",
   "mimetype": "text/x-python",
   "name": "python",
   "nbconvert_exporter": "python",
   "pygments_lexer": "ipython3",
   "version": "3.7.3"
  }
 },
 "nbformat": 4,
 "nbformat_minor": 2
}
